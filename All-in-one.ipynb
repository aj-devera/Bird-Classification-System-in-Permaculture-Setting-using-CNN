{
 "cells": [
  {
   "cell_type": "markdown",
   "id": "db419c27-1a52-4948-b469-e04882c6ff3a",
   "metadata": {
    "tags": []
   },
   "source": [
    "# MEL SPECTROGRAM EXTRACTION"
   ]
  },
  {
   "cell_type": "code",
   "execution_count": 1,
   "id": "099ac663-902e-491e-a8fa-c6c8d56b5978",
   "metadata": {},
   "outputs": [
    {
     "name": "stderr",
     "output_type": "stream",
     "text": [
      "C:\\Users\\gbert\\AppData\\Roaming\\Python\\Python39\\site-packages\\tqdm\\auto.py:22: TqdmWarning: IProgress not found. Please update jupyter and ipywidgets. See https://ipywidgets.readthedocs.io/en/stable/user_install.html\n",
      "  from .autonotebook import tqdm as notebook_tqdm\n"
     ]
    }
   ],
   "source": [
    "import os\n",
    "import scipy as sp\n",
    "import numpy as np\n",
    "import librosa as lb\n",
    "import noisereduce as nr\n",
    "import librosa.display\n",
    "import matplotlib.pyplot as plt\n",
    "from scipy.signal import butter, lfilter\n",
    "import time"
   ]
  },
  {
   "cell_type": "code",
   "execution_count": 2,
   "id": "7dcbfafb-e8db-4843-874a-14ab56310926",
   "metadata": {},
   "outputs": [],
   "source": [
    "import matplotlib\n",
    "matplotlib.use('Agg')"
   ]
  },
  {
   "cell_type": "code",
   "execution_count": 3,
   "id": "b2752996-7d6c-4548-8b3f-fc48bd407302",
   "metadata": {},
   "outputs": [],
   "source": [
    "### Para di magpakita warning message sa mel_spec ###\n",
    "import warnings\n",
    "warnings.filterwarnings('ignore')"
   ]
  },
  {
   "cell_type": "markdown",
   "id": "1eb05827-83d9-4fd0-b878-0ea5deb9d27c",
   "metadata": {},
   "source": [
    "<hr>"
   ]
  },
  {
   "cell_type": "markdown",
   "id": "b0a153c7-0b64-4fd0-b767-b03e259fe581",
   "metadata": {},
   "source": [
    "## File Paths, Initializations, and Creating Folders"
   ]
  },
  {
   "cell_type": "code",
   "execution_count": 16,
   "id": "e24c013a-25e1-4b4b-a59a-ac7cd598632a",
   "metadata": {},
   "outputs": [],
   "source": [
    "# spec_path"
   ]
  },
  {
   "cell_type": "code",
   "execution_count": 4,
   "id": "86bf47c7-00b1-4649-9cd2-7ab3c0da5934",
   "metadata": {},
   "outputs": [],
   "source": [
    "# path = \"D:\\\\Aj\\\\BirdClassification\\\\mel spec 20 classes 5 seconds\"\n",
    "path = \"D:\\\\Aj\\\\BirdClassification\\\\NEW DATASET\"\n",
    "\n",
    "# wavfiles_path = \"D:\\\\Aj\\\\BirdClassification\\\\audio dataset\\\\original\"\n",
    "# wavfiles_path = \"D:\\\\Aj\\\\BirdClassification\\\\mel spec 20 classes 7 seconds\\\\noise reduced wavfiles\"\n",
    "# wavfiles_path = \"D:\\\\Aj\\\\BirdClassification\\\\mel spec 20 classes 7 seconds\\\\noise injected wavfiles\"\n",
    "wavfiles_path = \"D:\\\\Aj\\\\BirdClassification\\\\NEW DATASET\\\\audio dataset\\\\original\"\n",
    "\n",
    "# spec_path = os.path.join(path, 'Mel Spectrogram no filter/')\n",
    "# spec_path = os.path.join(path, 'Mel Spectrogram 20 classes median clipping original/')\n",
    "# spec_path = os.path.join(path, 'Mel Spectrogram 20 classes bandpass filter only/')\n",
    "# spec_path = os.path.join(path, 'Mel Spectrogram 20 classes with noise reduce only/')\n",
    "# spec_path = os.path.join(path, 'Mel Spectrogram with noise reduced and horizontal shift augmentation') # ETO YUNG GINAMIT SA THESIS\n",
    "spec_path = os.path.join(path, 'FINAL MEL SPEC')\n",
    "spec_path_orig = os.path.join(spec_path, 'original')\n",
    "spec_path_timestretch = os.path.join(spec_path, 'timestretch')\n",
    "spec_path_pitchshift = os.path.join(spec_path, 'pitchshift')\n",
    "spec_path_noiseinjected = os.path.join(spec_path, 'noiseinjectedFINAL')\n",
    "spec_path_noisereduced = os.path.join(spec_path, 'noisereduced')\n",
    "spec_path_horizontalshift = os.path.join(spec_path, 'horizontalshift')"
   ]
  },
  {
   "cell_type": "code",
   "execution_count": 5,
   "id": "3fbba541-e6ce-49b3-b7bc-209efc05288f",
   "metadata": {},
   "outputs": [
    {
     "name": "stdout",
     "output_type": "stream",
     "text": [
      "['AsianGlossyStarling', 'Black-crownedNightHeron', 'Black-napedOriole', 'Blue-tailedBee-eater', 'BrownShrike', 'ChestnutMunia', 'CollaredKingfisher', 'EurasianTreeSparrow', 'Grey-backedTailorbird', 'GreyWagtail', 'MangroveBlueFlycatcher', 'Olive-backedSunbird', 'PhilippineMagpie-Robin', 'PhilippinePiedFantail', 'PiedBushChat', 'Red-keeledFlowerpecker', 'White-breastedWaterhen', 'Yellow-ventedBulbul', 'ZebraDove'] 19\n"
     ]
    }
   ],
   "source": [
    "FRAME_SIZE = 2048\n",
    "HOP_SIZE = 512\n",
    "SR = 22050\n",
    "N_MELS = 128\n",
    "LOWCUT = 1000\n",
    "HIGHCUT = 11000\n",
    "DURATION = 5.0\n",
    "\n",
    "species = os.listdir(wavfiles_path)\n",
    "species = sorted(species)\n",
    "print(species, len(species))\n",
    "# species = [\"ZebraDove\"]"
   ]
  },
  {
   "cell_type": "code",
   "execution_count": 19,
   "id": "f7e74ca2-c7a3-4895-a719-d5469d00db1e",
   "metadata": {},
   "outputs": [],
   "source": [
    "# speciesfreq_path = \"D:\\\\Aj\\\\BirdClassification\\\\mel spec 20 classes 7 seconds\\\\species frequencies.txt\"\n",
    "\n",
    "# with open(speciesfreq_path, 'r') as f:\n",
    "#     species_freq = f.readlines()\n",
    "#     species_freq = species_freq[0]\n",
    "#     species_freq = species_freq.strip(\"[]\")\n",
    "#     species_freq = species_freq.split(\",\")\n",
    "    \n",
    "# for idx, line in enumerate(species_freq):\n",
    "#     species_freq[idx] = float(line)\n",
    "\n",
    "# print(species_freq, len(species_freq))"
   ]
  },
  {
   "cell_type": "markdown",
   "id": "ebfe5ecc-7579-4378-8ab5-e9c79954b1a1",
   "metadata": {},
   "source": [
    "<hr>"
   ]
  },
  {
   "cell_type": "markdown",
   "id": "abb7045d-c92b-454e-85e5-a33764b40ee8",
   "metadata": {},
   "source": [
    "## Functions"
   ]
  },
  {
   "cell_type": "code",
   "execution_count": 12,
   "id": "9baac3f6-6ba3-4341-abe4-bb9d1a579992",
   "metadata": {},
   "outputs": [],
   "source": [
    "def butter_bandpass(lowcut, highcut, fs, order=6):\n",
    "    return butter(order, [lowcut, highcut], fs=fs, btype='band')\n",
    "\n",
    "def butter_bandpass_filter(data, lowcut, highcut, fs, order=6):\n",
    "    b, a = butter_bandpass(lowcut, highcut, fs, order=order)\n",
    "    y = lfilter(b, a, data)\n",
    "    return y"
   ]
  },
  {
   "cell_type": "code",
   "execution_count": 13,
   "id": "f6818058-9570-4da3-a5f4-489da4f6ab0c",
   "metadata": {},
   "outputs": [],
   "source": [
    "def split_audio(file):\n",
    "    x = lb.get_duration(filename=file)\n",
    "    x = np.floor(x)\n",
    "    splits = int(x // DURATION)\n",
    "    return splits"
   ]
  },
  {
   "cell_type": "code",
   "execution_count": 14,
   "id": "7d2e2649-bd05-49a3-8866-25c3a2f3ffad",
   "metadata": {},
   "outputs": [],
   "source": [
    "def find_frequency(audio):\n",
    "    w = np.fft.fft(audio)\n",
    "    freqs = np.fft.fftfreq(len(w))\n",
    "    idx = np.argmax(np.abs(w))\n",
    "    freq = freqs[idx]\n",
    "    freq_in_hertz = abs(freq * SR)\n",
    "    return freq_in_hertz"
   ]
  },
  {
   "cell_type": "code",
   "execution_count": 15,
   "id": "fc0c0727-ac42-4f33-b3f2-ae05ca88bd8e",
   "metadata": {},
   "outputs": [],
   "source": [
    "def extract_spectrogram_original(file, splits):\n",
    "    offset = 0\n",
    "    duration = DURATION * SR\n",
    "    duration_in_seconds = duration / SR   # This is equal to 5 seconds\n",
    "    \n",
    "    if (splits != 0):\n",
    "    ## Loading the audio into individual 5-second segments and preprocess from there\n",
    "        for i in range(1, splits+1):\n",
    "            save_path = spec_path_orig + '/' + foldername + '/' + filename + '-' + str(i) + '.png' # path for audio files that are not split\n",
    "            audio, _ = librosa.load(file, offset=offset, duration=DURATION)\n",
    "            offset += DURATION\n",
    "            audio = butter_bandpass_filter(audio, LOWCUT, HIGHCUT, SR)\n",
    "            # audio = nr.reduce_noise(y=audio, sr=SR)\n",
    "            # audio = butter_bandpass_filter(audio, birdfreq-bound, birdfreq+bound, SR)\n",
    "            if np.all(np.isnan(audio) == True) or np.all(audio == 0):\n",
    "                continue\n",
    "            \n",
    "            ## original\n",
    "            mel = lb.feature.melspectrogram(audio, sr=SR, n_fft=FRAME_SIZE, hop_length=HOP_SIZE, n_mels=N_MELS)\n",
    "            log_mel = lb.power_to_db(mel)\n",
    "            fig = librosa.display.specshow(log_mel, cmap='jet', sr=SR)\n",
    "            fig.figure.savefig(save_path, bbox_inches='tight', pad_inches=0.0)\n",
    "            fig.remove()\n",
    "            plt.close()\n",
    "            \n",
    "            ## pitch_shift\n",
    "            save_path = spec_path_pitchscale + '/' + foldername + '/' + filename + '_pitchscaled' + '-' + str(i) + '.png' # path for audio files that are not split\n",
    "            # num_semitones = np.random.normal(1.5, .25, size=None)\n",
    "            num_semitones = np.random.normal(1.75, .25, size=None)\n",
    "            audio_ps = librosa.effects.pitch_shift(audio, sr=SR, n_steps=num_semitones)\n",
    "            mel = lb.feature.melspectrogram(audio_ps, sr=SR, n_fft=FRAME_SIZE, hop_length=HOP_SIZE, n_mels=N_MELS)\n",
    "            log_mel = lb.power_to_db(mel)\n",
    "            fig = librosa.display.specshow(log_mel, cmap='jet', sr=SR)\n",
    "            fig.figure.savefig(save_path, bbox_inches='tight', pad_inches=0.0)\n",
    "            fig.remove()\n",
    "            plt.close()\n",
    "            \n",
    "            ## Time-stretched\n",
    "            save_path = spec_path_timestretch + '/' + foldername + '/' + filename + '_timestretched' + '-' + str(i) + '.png' # path for audio files that are not split\n",
    "            # time_stretch_rate = np.random.normal(1, 0.05, size=None)\n",
    "            time_stretch_rate = np.random.normal(1.5, 0.05, size=None)\n",
    "            audio_ts = librosa.effects.time_stretch(audio, rate=time_stretch_rate)\n",
    "            mel = lb.feature.melspectrogram(audio_ts, sr=SR, n_fft=FRAME_SIZE, hop_length=HOP_SIZE, n_mels=N_MELS)\n",
    "            log_mel = lb.power_to_db(mel)\n",
    "            fig = librosa.display.specshow(log_mel, cmap='jet', sr=SR)\n",
    "            fig.figure.savefig(save_path, bbox_inches='tight', pad_inches=0.0)\n",
    "            fig.remove()\n",
    "            plt.close()\n",
    "            \n",
    "    else:\n",
    "        save_path = spec_path_orig + '/' + foldername + '/' + filename  + '.png' # path for audio files that are not split\n",
    "        audio, _ = librosa.load(file)\n",
    "        audio = butter_bandpass_filter(audio, LOWCUT, HIGHCUT, SR)\n",
    "        # audio = nr.reduce_noise(y=audio, sr=SR)\n",
    "        # audio = butter_bandpass_filter(audio, birdfreq-bound, birdfreq+bound, SR)\n",
    "        if np.all(np.isnan(audio) == True) or np.all(audio == 0):\n",
    "            next\n",
    "        audio = librosa.util.pad_center(audio, size=duration)\n",
    "        \n",
    "        ## original\n",
    "        mel = lb.feature.melspectrogram(audio, sr=SR, n_fft=FRAME_SIZE, hop_length=HOP_SIZE, n_mels=N_MELS)\n",
    "        log_mel = lb.power_to_db(mel)\n",
    "        fig = librosa.display.specshow(log_mel, cmap='jet', sr=SR)\n",
    "        fig.figure.savefig(save_path, bbox_inches='tight', pad_inches=0.0)\n",
    "        fig.remove()\n",
    "        plt.close()\n",
    "        \n",
    "        ## Pitch shift\n",
    "        save_path = spec_path_pitchscale + '/' + foldername + '/' + filename + '_pitchscaled' + '.png' # path for audio files that are not split\n",
    "        num_semitones = np.random.normal(1.5, .25, size=None)\n",
    "        audio_ps = librosa.effects.pitch_shift(audio, sr=SR, n_steps=num_semitones)\n",
    "        mel = lb.feature.melspectrogram(audio, sr=SR, n_fft=FRAME_SIZE, hop_length=HOP_SIZE, n_mels=N_MELS)\n",
    "        log_mel = lb.power_to_db(mel)\n",
    "        fig = librosa.display.specshow(log_mel, cmap='jet', sr=SR)\n",
    "        fig.figure.savefig(save_path, bbox_inches='tight', pad_inches=0.0)\n",
    "        fig.remove()\n",
    "        plt.close()\n",
    "        \n",
    "        ## Time-stretched\n",
    "        save_path = spec_path_timestretch + '/' + foldername + '/' + filename + '_timestretched' + '.png' # path for audio files that are not split\n",
    "        time_stretch_rate = np.random.normal(1.5, 0.05, size=None)\n",
    "        audio_ts = librosa.effects.time_stretch(audio, rate=time_stretch_rate)\n",
    "        mel = lb.feature.melspectrogram(audio, sr=SR, n_fft=FRAME_SIZE, hop_length=HOP_SIZE, n_mels=N_MELS)\n",
    "        log_mel = lb.power_to_db(mel)\n",
    "        fig = librosa.display.specshow(log_mel, cmap='jet', sr=SR)\n",
    "        fig.figure.savefig(save_path, bbox_inches='tight', pad_inches=0.0)\n",
    "        fig.remove()\n",
    "        plt.close()"
   ]
  },
  {
   "cell_type": "code",
   "execution_count": 17,
   "id": "1d2673a1-cbbb-45d8-be17-863c67916c7f",
   "metadata": {},
   "outputs": [],
   "source": [
    "# create folder for mel spectrograms\n",
    "if not os.path.exists(spec_path):\n",
    "    os.mkdir(spec_path)\n",
    "    os.mkdir(spec_path_orig)\n",
    "    os.mkdir(spec_path_pitchscale)\n",
    "    os.mkdir(spec_path_timestretch)\n",
    "    os.mkdir(spec_path_noiseinjected)\n",
    "    os.mkdir(spec_path_noisereduced)\n",
    "    os.mkdir(spec_path_horizontalshift)\n",
    "    \n",
    "os.mkdir(spec_path_noiseinjected)\n",
    "for i in species:\n",
    "    if not os.path.exists(spec_path_orig + '/' + i):\n",
    "        os.mkdir(spec_path_orig + '/' + i)\n",
    "    if not os.path.exists(spec_path_timestretch + '/' + i):\n",
    "        os.mkdir(spec_path_timestretch + '/' + i)\n",
    "    if not os.path.exists(spec_path_pitchscale + '/' + i):\n",
    "        os.mkdir(spec_path_pitchscale + '/' + i)\n",
    "    if not os.path.exists(spec_path_noiseinjected + '/' + i):\n",
    "        os.mkdir(spec_path_noiseinjected + '/' + i)\n",
    "    # if not os.path.exists(spec_path_noisereduced + '/' + i):\n",
    "        # os.mkdir(spec_path_noisereduced + '/' + i)\n",
    "    if not os.path.exists(spec_path_horizontalshift + '/' + i):\n",
    "        os.mkdir(spec_path_horizontalshift + '/' + i)"
   ]
  },
  {
   "cell_type": "code",
   "execution_count": 29,
   "id": "160810cf-52df-49d9-a2da-1ad4f6734a23",
   "metadata": {},
   "outputs": [],
   "source": [
    "import time"
   ]
  },
  {
   "cell_type": "markdown",
   "id": "b377b481-8248-48df-8728-162eb1777c77",
   "metadata": {},
   "source": [
    "## Original + Pitch Shift + Time Stretch"
   ]
  },
  {
   "cell_type": "code",
   "execution_count": 41,
   "id": "b8dcd15a-cc25-4ab5-8fdf-2162ebc58190",
   "metadata": {},
   "outputs": [
    {
     "name": "stdout",
     "output_type": "stream",
     "text": [
      "AsianGlossyStarling\n",
      "Total time to preprocess AsianGlossyStarling: 145.98\n",
      "Black-crownedNightHeron\n",
      "Total time to preprocess Black-crownedNightHeron: 116.98\n",
      "Black-napedOriole\n",
      "Total time to preprocess Black-napedOriole: 176.89\n",
      "Blue-headedFantail\n",
      "Total time to preprocess Blue-headedFantail: 34.57\n",
      "Blue-tailedBee-eater\n",
      "Total time to preprocess Blue-tailedBee-eater: 123.8\n",
      "BrownShrike\n",
      "Total time to preprocess BrownShrike: 185.05\n",
      "ChestnutMunia\n",
      "Total time to preprocess ChestnutMunia: 63.54\n",
      "CollaredKingfisher\n",
      "Total time to preprocess CollaredKingfisher: 323.35\n",
      "EurasianTreeSparrow\n",
      "Total time to preprocess EurasianTreeSparrow: 962.56\n",
      "Grey-backedTailorbird\n",
      "Total time to preprocess Grey-backedTailorbird: 136.01\n",
      "GreyWagtail\n",
      "Total time to preprocess GreyWagtail: 168.6\n",
      "MangroveBlueFlycatcher\n",
      "Total time to preprocess MangroveBlueFlycatcher: 252.13\n",
      "Olive-backedSunbird\n",
      "Total time to preprocess Olive-backedSunbird: 367.37\n",
      "PhilippineMagpie-Robin\n",
      "Total time to preprocess PhilippineMagpie-Robin: 84.58\n",
      "PhilippinePiedFantail\n",
      "Total time to preprocess PhilippinePiedFantail: 143.72\n",
      "PiedBushChat\n",
      "Total time to preprocess PiedBushChat: 152.32\n",
      "Red-keeledFlowerpecker\n",
      "Total time to preprocess Red-keeledFlowerpecker: 127.75\n",
      "White-breastedWaterhen\n",
      "Total time to preprocess White-breastedWaterhen: 186.79\n",
      "Yellow-ventedBulbul\n",
      "Total time to preprocess Yellow-ventedBulbul: 204.34\n",
      "ZebraDove\n",
      "Total time to preprocess ZebraDove: 455.58\n",
      "Total Time: 73.532 minutes\n"
     ]
    }
   ],
   "source": [
    "folder_idx = 0\n",
    "time1 = time.time()\n",
    "\n",
    "for folder_idx, foldername in enumerate(species):\n",
    "    start_time = time.time()\n",
    "    os.chdir(os.path.join(wavfiles_path, foldername))\n",
    "    files = os.listdir(os.path.join(wavfiles_path, foldername))\n",
    "    print(foldername)\n",
    "    \n",
    "    for file in files:\n",
    "        filename, _ = os.path.splitext(file)\n",
    "        splits = split_audio(file)\n",
    "        extract_spectrogram_original(file, splits)\n",
    "        \n",
    "    folder_idx += 1\n",
    "    end_time = time.time()\n",
    "    print(f'Total time to preprocess {foldername}: {np.round(end_time-start_time, 2)}')\n",
    "\n",
    "time2 = time.time()\n",
    "print(f\"Total Time: {np.round((time2 - time1),2) / 60} minutes\")"
   ]
  },
  {
   "cell_type": "markdown",
   "id": "ca43ac72-0824-4612-813d-29c036cbc153",
   "metadata": {},
   "source": [
    "#### Noise Injected Audio Files"
   ]
  },
  {
   "cell_type": "code",
   "execution_count": 19,
   "id": "043dd8bd-a89c-479f-b509-dbc5b9d2cdfe",
   "metadata": {},
   "outputs": [],
   "source": [
    "def extract_spectrogram_noise_injected(file, splits):\n",
    "    offset = 0\n",
    "    duration = DURATION * SR\n",
    "    duration_in_seconds = duration / SR   # This is equal to 5 seconds\n",
    "    \n",
    "    if (splits != 0):\n",
    "        ## Loading the audio into individual 5-second segments and preprocess from there\n",
    "        for i in range(1, splits+1):\n",
    "            save_path = spec_path_noiseinjected + '/' + foldername + '/' + filename + '_noiseinjected' + '-' + str(i) + '.png' # path for audio files that are not split\n",
    "            offset += DURATION\n",
    "            audio, _ = librosa.load(file, offset=offset, duration=DURATION)\n",
    "            if len(audio) != duration:\n",
    "                continue\n",
    "            audio = butter_bandpass_filter(audio, LOWCUT, HIGHCUT, SR)\n",
    "            mel = lb.feature.melspectrogram(audio, sr=SR, n_fft=FRAME_SIZE, hop_length=HOP_SIZE, n_mels=N_MELS)\n",
    "            log_mel = lb.power_to_db(mel)\n",
    "            fig = librosa.display.specshow(log_mel, cmap='jet', sr=SR)\n",
    "            fig.figure.savefig(save_path, bbox_inches='tight', pad_inches=0.0)\n",
    "            fig.remove()\n",
    "            plt.close()\n",
    "    else:\n",
    "        save_path = spec_path_noiseinjected + '/' + foldername + '/' + filename + '_noiseinjected' + '.png' # path for audio files that are not split\n",
    "        audio, _ = librosa.load(file)\n",
    "        audio = butter_bandpass_filter(audio, LOWCUT, HIGHCUT, SR)\n",
    "        audio = librosa.util.pad_center(audio, size=duration)\n",
    "        mel = lb.feature.melspectrogram(audio, sr=SR, n_fft=FRAME_SIZE, hop_length=HOP_SIZE, n_mels=N_MELS)\n",
    "        log_mel = lb.power_to_db(mel)\n",
    "        fig = librosa.display.specshow(log_mel, cmap='jet', sr=SR)\n",
    "        fig.figure.savefig(save_path, bbox_inches='tight', pad_inches=0.0)\n",
    "        fig.remove()\n",
    "        plt.close()"
   ]
  },
  {
   "cell_type": "code",
   "execution_count": 7,
   "id": "6bee07b8-c6dc-4650-a910-0dc4c817cb8e",
   "metadata": {},
   "outputs": [],
   "source": [
    "# wavfiles_path = \"D:\\\\Aj\\\\BirdClassification\\\\NEW DATASET\\\\audio dataset\\\\noise injected wavfiles\"\n",
    "wavfiles_path = \"D:\\\\Aj\\\\BirdClassification\\\\NEW DATASET\\\\NEW AUDIOS\""
   ]
  },
  {
   "cell_type": "code",
   "execution_count": 8,
   "id": "3cdc2ecd-63b8-46f1-a8ff-114661a1ca22",
   "metadata": {},
   "outputs": [],
   "source": [
    "import time"
   ]
  },
  {
   "cell_type": "code",
   "execution_count": 20,
   "id": "906930f7-2666-48b0-b488-dd7f6ff4f3a7",
   "metadata": {},
   "outputs": [
    {
     "name": "stdout",
     "output_type": "stream",
     "text": [
      "AsianGlossyStarling\n",
      "Total time to preprocess AsianGlossyStarling: 21.14\n",
      "Black-crownedNightHeron\n",
      "Total time to preprocess Black-crownedNightHeron: 12.85\n",
      "Black-napedOriole\n",
      "Total time to preprocess Black-napedOriole: 22.57\n",
      "Blue-tailedBee-eater\n",
      "Total time to preprocess Blue-tailedBee-eater: 15.61\n",
      "BrownShrike\n",
      "Total time to preprocess BrownShrike: 23.91\n",
      "ChestnutMunia\n",
      "Total time to preprocess ChestnutMunia: 7.45\n",
      "CollaredKingfisher\n",
      "Total time to preprocess CollaredKingfisher: 39.21\n",
      "EurasianTreeSparrow\n",
      "Total time to preprocess EurasianTreeSparrow: 98.48\n",
      "Grey-backedTailorbird\n",
      "Total time to preprocess Grey-backedTailorbird: 13.56\n",
      "GreyWagtail\n",
      "Total time to preprocess GreyWagtail: 16.65\n",
      "MangroveBlueFlycatcher\n",
      "Total time to preprocess MangroveBlueFlycatcher: 25.18\n",
      "Olive-backedSunbird\n",
      "Total time to preprocess Olive-backedSunbird: 40.43\n",
      "PhilippineMagpie-Robin\n",
      "Total time to preprocess PhilippineMagpie-Robin: 9.06\n",
      "PhilippinePiedFantail\n",
      "Total time to preprocess PhilippinePiedFantail: 15.22\n",
      "PiedBushChat\n",
      "Total time to preprocess PiedBushChat: 13.54\n",
      "Red-keeledFlowerpecker\n",
      "Total time to preprocess Red-keeledFlowerpecker: 12.6\n",
      "White-breastedWaterhen\n",
      "Total time to preprocess White-breastedWaterhen: 15.05\n",
      "Yellow-ventedBulbul\n",
      "Total time to preprocess Yellow-ventedBulbul: 16.11\n",
      "ZebraDove\n",
      "Total time to preprocess ZebraDove: 50.31\n"
     ]
    }
   ],
   "source": [
    "folder_idx = 0\n",
    "\n",
    "for folder_idx, foldername in enumerate(species):\n",
    "    start_time = time.time()\n",
    "    os.chdir(os.path.join(wavfiles_path, foldername))\n",
    "    files = os.listdir(os.path.join(wavfiles_path, foldername))\n",
    "    print(foldername)\n",
    "    \n",
    "    for file in files:\n",
    "        filename, _ = os.path.splitext(file)\n",
    "        splits = split_audio(file)\n",
    "        # birdfreq = species_freq[folder_idx]\n",
    "        # bound = birdfreq * 0.25\n",
    "        extract_spectrogram_noise_injected(file, splits)\n",
    "        \n",
    "    folder_idx += 1\n",
    "    end_time = time.time()\n",
    "    print(f'Total time to preprocess {foldername}: {np.round(end_time-start_time, 2)}')"
   ]
  },
  {
   "cell_type": "markdown",
   "id": "c83657db-a24f-47e0-a925-265be6e0c1fa",
   "metadata": {},
   "source": [
    "## Noise Reduced"
   ]
  },
  {
   "cell_type": "code",
   "execution_count": 46,
   "id": "f9a4fe86-1c26-455f-b768-39082478483f",
   "metadata": {},
   "outputs": [],
   "source": [
    "def extract_spectrogram_noise_reduced(file, splits):\n",
    "    offset = 0\n",
    "    duration = DURATION * SR\n",
    "    duration_in_seconds = duration / SR   # This is equal to 5 seconds\n",
    "    \n",
    "    if (splits != 0):\n",
    "        ## Loading the audio into individual 5-second segments and preprocess from there\n",
    "        for i in range(1, splits+1):\n",
    "            save_path = spec_path_noisereduced + '/' + foldername + '/' + filename + '_noisereduced' + '-' + str(i) + '.png' # path for audio files that are not split\n",
    "            offset += DURATION\n",
    "            audio, _ = librosa.load(file, offset=offset, duration=DURATION)\n",
    "            if len(audio) != duration:\n",
    "                continue\n",
    "            mel = lb.feature.melspectrogram(audio, sr=SR, n_fft=FRAME_SIZE, hop_length=HOP_SIZE, n_mels=N_MELS)\n",
    "            log_mel = lb.power_to_db(mel)\n",
    "            fig = librosa.display.specshow(log_mel, cmap='jet', sr=SR)\n",
    "            fig.figure.savefig(save_path, bbox_inches='tight', pad_inches=0.0)\n",
    "            fig.remove()\n",
    "            plt.close()\n",
    "    else:\n",
    "        save_path = spec_path_noisereduced + '/' + foldername + '/' + filename + '_noisereduced' + '.png' # path for audio files that are not split\n",
    "        audio, _ = librosa.load(file)\n",
    "        audio = librosa.util.pad_center(audio, size=duration)\n",
    "        mel = lb.feature.melspectrogram(audio, sr=SR, n_fft=FRAME_SIZE, hop_length=HOP_SIZE, n_mels=N_MELS)\n",
    "        log_mel = lb.power_to_db(mel)\n",
    "        fig = librosa.display.specshow(log_mel, cmap='jet', sr=SR)\n",
    "        fig.figure.savefig(save_path, bbox_inches='tight', pad_inches=0.0)\n",
    "        fig.remove()\n",
    "        plt.close()"
   ]
  },
  {
   "cell_type": "code",
   "execution_count": 49,
   "id": "e9c02ebc-ef45-435c-a774-6cefb633502d",
   "metadata": {},
   "outputs": [],
   "source": [
    "wavfiles_path = \"D:\\\\Aj\\\\BirdClassification\\\\NEW DATASET\\\\audio dataset\\\\noise reduced wavfiles\""
   ]
  },
  {
   "cell_type": "code",
   "execution_count": 51,
   "id": "bfbaa657-6b60-4a3a-9d15-42a7f51bbfab",
   "metadata": {},
   "outputs": [
    {
     "name": "stdout",
     "output_type": "stream",
     "text": [
      "AsianGlossyStarling\n",
      "Total time to preprocess AsianGlossyStarling: 17.28\n",
      "Black-crownedNightHeron\n",
      "Total time to preprocess Black-crownedNightHeron: 13.54\n",
      "Black-napedOriole\n",
      "Total time to preprocess Black-napedOriole: 18.82\n",
      "Blue-headedFantail\n",
      "Total time to preprocess Blue-headedFantail: 3.57\n",
      "Blue-tailedBee-eater\n",
      "Total time to preprocess Blue-tailedBee-eater: 13.22\n",
      "BrownShrike\n",
      "Total time to preprocess BrownShrike: 23.96\n",
      "ChestnutMunia\n",
      "Total time to preprocess ChestnutMunia: 7.66\n",
      "CollaredKingfisher\n",
      "Total time to preprocess CollaredKingfisher: 42.19\n",
      "EurasianTreeSparrow\n",
      "Total time to preprocess EurasianTreeSparrow: 89.7\n",
      "Grey-backedTailorbird\n",
      "Total time to preprocess Grey-backedTailorbird: 12.9\n",
      "GreyWagtail\n",
      "Total time to preprocess GreyWagtail: 16.57\n",
      "MangroveBlueFlycatcher\n",
      "Total time to preprocess MangroveBlueFlycatcher: 23.89\n",
      "Olive-backedSunbird\n",
      "Total time to preprocess Olive-backedSunbird: 32.91\n",
      "PhilippineMagpie-Robin\n",
      "Total time to preprocess PhilippineMagpie-Robin: 7.95\n",
      "PhilippinePiedFantail\n",
      "Total time to preprocess PhilippinePiedFantail: 13.52\n",
      "PiedBushChat\n",
      "Total time to preprocess PiedBushChat: 12.57\n",
      "Red-keeledFlowerpecker\n",
      "Total time to preprocess Red-keeledFlowerpecker: 12.3\n",
      "White-breastedWaterhen\n",
      "Total time to preprocess White-breastedWaterhen: 14.46\n",
      "Yellow-ventedBulbul\n",
      "Total time to preprocess Yellow-ventedBulbul: 15.58\n",
      "ZebraDove\n",
      "Total time to preprocess ZebraDove: 44.0\n"
     ]
    }
   ],
   "source": [
    "folder_idx = 0\n",
    "\n",
    "for folder_idx, foldername in enumerate(species):\n",
    "    start_time = time.time()\n",
    "    os.chdir(os.path.join(wavfiles_path, foldername))\n",
    "    files = os.listdir(os.path.join(wavfiles_path, foldername))\n",
    "    print(foldername)\n",
    "    \n",
    "    for file in files:\n",
    "        filename, _ = os.path.splitext(file)\n",
    "        splits = split_audio(file)\n",
    "        # birdfreq = species_freq[folder_idx]\n",
    "        # bound = birdfreq * 0.25\n",
    "        extract_spectrogram_noise_reduced(file, splits)\n",
    "        \n",
    "    folder_idx += 1\n",
    "    end_time = time.time()\n",
    "    print(f'Total time to preprocess {foldername}: {np.round(end_time-start_time, 2)}')"
   ]
  },
  {
   "cell_type": "markdown",
   "id": "25d1bb7c-7785-4e5b-8f27-266cd8c3f6b5",
   "metadata": {},
   "source": [
    "## Horizontal Shift"
   ]
  },
  {
   "cell_type": "code",
   "execution_count": 11,
   "id": "c752716c-dbee-4f73-b6b1-2f90660520c4",
   "metadata": {},
   "outputs": [],
   "source": [
    "import random"
   ]
  },
  {
   "cell_type": "code",
   "execution_count": 25,
   "id": "6aeae020-5bc7-4d0c-8221-64a275c4478b",
   "metadata": {},
   "outputs": [],
   "source": [
    "def extract_horizontal_shift(file, splits):\n",
    "    offset = 0\n",
    "    duration = DURATION * SR\n",
    "    duration_in_seconds = duration / SR   # This is equal to 5 seconds\n",
    "    \n",
    "    if (splits != 0):\n",
    "        ## Loading the audio into individual 5-second segments and preprocess from there\n",
    "        for i in range(1, splits+1):\n",
    "            save_path = spec_path_horizontalshift + '/' + foldername + '/' + filename + '_shifted' + '-' + str(i) + '.png' # path for audio files that are not split\n",
    "            offset += DURATION\n",
    "            horizontal_shift = np.round(random.uniform(1.0, 4.0), 2)  # Randomize a number from 1 to 4 seconds with two decimal places. This will be the offset for shifting the audio.\n",
    "            ## Try-Except statement is for shifting until the end of the audio recording. Once it reaches the end, it will result to an error since the length is now 0 and it continue function will be used. \n",
    "            try:\n",
    "                audio, _ = librosa.load(file, offset=offset+horizontal_shift, duration=DURATION)\n",
    "                if len(audio) < duration:\n",
    "                    padding = np.zeros(int(duration)-len(audio))\n",
    "                    audio = np.concatenate((audio, padding), axis=None)\n",
    "            except:\n",
    "                continue\n",
    "                \n",
    "            audio = butter_bandpass_filter(audio, 1000, 11000, SR)\n",
    "            mel = lb.feature.melspectrogram(audio, sr=SR, n_fft=FRAME_SIZE, hop_length=HOP_SIZE, n_mels=N_MELS)\n",
    "            log_mel = lb.power_to_db(mel)\n",
    "            fig = librosa.display.specshow(log_mel, cmap='jet', sr=SR)\n",
    "            fig.figure.savefig(save_path, bbox_inches='tight', pad_inches=0.0)\n",
    "            fig.remove()\n",
    "            plt.close()\n",
    "    else:\n",
    "        save_path = spec_path_horizontalshift + '/' + foldername + '/' + filename + '_shifted' + '.png' # path for audio files that are not split\n",
    "        audio, _ = librosa.load(file)\n",
    "        audio = librosa.util.pad_center(audio, size=duration)\n",
    "        audio = butter_bandpass_filter(audio, 1000, 11000, SR)\n",
    "        mel = lb.feature.melspectrogram(audio, sr=SR, n_fft=FRAME_SIZE, hop_length=HOP_SIZE, n_mels=N_MELS)\n",
    "        log_mel = lb.power_to_db(mel)\n",
    "        fig = librosa.display.specshow(log_mel, cmap='jet', sr=SR)\n",
    "        fig.figure.savefig(save_path, bbox_inches='tight', pad_inches=0.0)\n",
    "        fig.remove()\n",
    "        plt.close()"
   ]
  },
  {
   "cell_type": "code",
   "execution_count": 27,
   "id": "6b27bafe-53d6-40e9-a845-6efe6c24ee1c",
   "metadata": {},
   "outputs": [
    {
     "name": "stdout",
     "output_type": "stream",
     "text": [
      "AsianGlossyStarling\n",
      "Total time to preprocess AsianGlossyStarling: 58.69\n",
      "Black-crownedNightHeron\n",
      "Total time to preprocess Black-crownedNightHeron: 44.55\n",
      "Black-napedOriole\n",
      "Total time to preprocess Black-napedOriole: 89.21\n",
      "Blue-headedFantail\n",
      "Total time to preprocess Blue-headedFantail: 15.78\n",
      "Blue-tailedBee-eater\n",
      "Total time to preprocess Blue-tailedBee-eater: 56.35\n",
      "BrownShrike\n",
      "Total time to preprocess BrownShrike: 79.3\n",
      "ChestnutMunia\n",
      "Total time to preprocess ChestnutMunia: 29.54\n",
      "CollaredKingfisher\n",
      "Total time to preprocess CollaredKingfisher: 144.22\n",
      "EurasianTreeSparrow\n",
      "Total time to preprocess EurasianTreeSparrow: 395.82\n",
      "Grey-backedTailorbird\n",
      "Total time to preprocess Grey-backedTailorbird: 65.42\n",
      "GreyWagtail\n",
      "Total time to preprocess GreyWagtail: 65.71\n",
      "MangroveBlueFlycatcher\n",
      "Total time to preprocess MangroveBlueFlycatcher: 101.5\n",
      "Olive-backedSunbird\n",
      "Total time to preprocess Olive-backedSunbird: 158.98\n",
      "PhilippineMagpie-Robin\n",
      "Total time to preprocess PhilippineMagpie-Robin: 39.61\n",
      "PhilippinePiedFantail\n",
      "Total time to preprocess PhilippinePiedFantail: 71.25\n",
      "PiedBushChat\n",
      "Total time to preprocess PiedBushChat: 61.59\n",
      "Red-keeledFlowerpecker\n",
      "Total time to preprocess Red-keeledFlowerpecker: 55.38\n",
      "White-breastedWaterhen\n",
      "Total time to preprocess White-breastedWaterhen: 69.99\n",
      "Yellow-ventedBulbul\n",
      "Total time to preprocess Yellow-ventedBulbul: 73.35\n",
      "ZebraDove\n",
      "Total time to preprocess ZebraDove: 210.59\n"
     ]
    }
   ],
   "source": [
    "folder_idx = 0\n",
    "\n",
    "for folder_idx, foldername in enumerate(species):\n",
    "    start_time = time.time()\n",
    "    os.chdir(os.path.join(wavfiles_path, foldername))\n",
    "    files = os.listdir(os.path.join(wavfiles_path, foldername))\n",
    "    print(foldername)\n",
    "    \n",
    "    for file in files:\n",
    "        filename, _ = os.path.splitext(file)\n",
    "        splits = split_audio(file)\n",
    "        extract_horizontal_shift(file, splits)\n",
    "        \n",
    "    folder_idx += 1\n",
    "    end_time = time.time()\n",
    "    print(f'Total time to preprocess {foldername}: {np.round(end_time-start_time, 2)}')"
   ]
  },
  {
   "cell_type": "markdown",
   "id": "c8f4b762-e03a-4360-b4c7-7e7a5eacc52a",
   "metadata": {},
   "source": [
    "# MOVE TO ALL FOLDER"
   ]
  },
  {
   "cell_type": "code",
   "execution_count": 1,
   "id": "604247e1-2c8d-4c38-845c-ae7baa15ce03",
   "metadata": {},
   "outputs": [],
   "source": [
    "import os\n",
    "from shutil import copy\n",
    "import numpy as np"
   ]
  },
  {
   "cell_type": "code",
   "execution_count": 2,
   "id": "12c9c749-b47e-479c-ae51-8e920c38a8f3",
   "metadata": {},
   "outputs": [],
   "source": [
    "# path = \"D:\\\\Aj\\\\BirdClassification\\\\mel spec 20 classes 5 seconds\"\n",
    "path = \"D:\\\\Aj\\\\BirdClassification\\\\NEW DATASET\"\n",
    "\n",
    "# spec_path = os.path.join(path, 'Mel Spectrogram 20 classes/')\n",
    "# spec_path = os.path.join(path, 'Mel Spectrogram 20 classes median clipping/')\n",
    "# spec_path = os.path.join(path, 'Mel Spectrogram 20 classes bandpass filter only/')\n",
    "spec_path = os.path.join(path, 'FINAL MEL SPEC')\n",
    "\n",
    "spec_path_orig = os.path.join(spec_path, 'original')\n",
    "spec_path_timestretch = os.path.join(spec_path, 'timestretch')\n",
    "spec_path_pitchscale = os.path.join(spec_path, 'pitchscale')\n",
    "spec_path_noiseinjected = os.path.join(spec_path, 'noiseinjected')\n",
    "spec_path_noisereduced = os.path.join(spec_path, 'noisereduced')\n",
    "spec_path_horizontalshift = os.path.join(spec_path, 'horizontalshift')\n",
    "\n",
    "target_path = os.path.join(spec_path, 'all no noisereduced')"
   ]
  },
  {
   "cell_type": "code",
   "execution_count": 3,
   "id": "84418222-9e06-4ec1-9357-7d86360374dd",
   "metadata": {},
   "outputs": [
    {
     "name": "stdout",
     "output_type": "stream",
     "text": [
      "['AsianGlossyStarling', 'Black-crownedNightHeron', 'Black-napedOriole', 'Blue-tailedBee-eater', 'BrownShrike', 'ChestnutMunia', 'CollaredKingfisher', 'EurasianTreeSparrow', 'Grey-backedTailorbird', 'GreyWagtail', 'MangroveBlueFlycatcher', 'Olive-backedSunbird', 'PhilippineMagpie-Robin', 'PhilippinePiedFantail', 'PiedBushChat', 'Red-keeledFlowerpecker', 'White-breastedWaterhen', 'Yellow-ventedBulbul', 'ZebraDove']\n"
     ]
    }
   ],
   "source": [
    "species = os.listdir(spec_path_orig)\n",
    "print(species)\n",
    "if not os.path.exists(target_path):\n",
    "    os.mkdir(target_path)\n",
    "    for x in species:\n",
    "        if not os.path.exists(os.path.join(target_path, x)):\n",
    "            os.mkdir(os.path.join(target_path, x))"
   ]
  },
  {
   "cell_type": "code",
   "execution_count": 4,
   "id": "9dab2183-fc57-495a-95ad-e86655bff769",
   "metadata": {},
   "outputs": [],
   "source": [
    "# path_list = [spec_path_orig, spec_path_timestretch, spec_path_pitchscale, spec_path_noiseinjected, spec_path_noisereduced, spec_path_horizontalshift]\n",
    "path_list = [spec_path_orig, spec_path_timestretch, spec_path_pitchscale, spec_path_noiseinjected, spec_path_horizontalshift]\n",
    "# path_list = [spec_path_orig, spec_path_timestretch, spec_path_pitchscale]"
   ]
  },
  {
   "cell_type": "code",
   "execution_count": 5,
   "id": "ec19b807-6236-4a64-881e-83df70379300",
   "metadata": {},
   "outputs": [
    {
     "name": "stdout",
     "output_type": "stream",
     "text": [
      "DONE\n"
     ]
    }
   ],
   "source": [
    "for i in path_list:\n",
    "    folders = os.listdir(i)\n",
    "    for folder in folders:\n",
    "        os.chdir(os.path.join(i, folder))\n",
    "        files = os.listdir()\n",
    "        target_folder = os.path.join(target_path, folder)\n",
    "        for file in files:\n",
    "            copy(file, target_folder)\n",
    "print(\"DONE\")"
   ]
  },
  {
   "cell_type": "code",
   "execution_count": 6,
   "id": "50e3b3df-e9cc-4862-95fa-f528793ce5fe",
   "metadata": {},
   "outputs": [
    {
     "name": "stdout",
     "output_type": "stream",
     "text": [
      "AsianGlossyStarling 972\n",
      "Black-crownedNightHeron 703\n",
      "Black-napedOriole 883\n",
      "Blue-tailedBee-eater 825\n",
      "BrownShrike 1165\n",
      "ChestnutMunia 432\n",
      "CollaredKingfisher 2168\n",
      "EurasianTreeSparrow 5322\n",
      "Grey-backedTailorbird 793\n",
      "GreyWagtail 972\n",
      "MangroveBlueFlycatcher 1420\n",
      "Olive-backedSunbird 2199\n",
      "PhilippineMagpie-Robin 521\n",
      "PhilippinePiedFantail 871\n",
      "PiedBushChat 870\n",
      "Red-keeledFlowerpecker 783\n",
      "White-breastedWaterhen 992\n",
      "Yellow-ventedBulbul 1023\n",
      "ZebraDove 2681\n"
     ]
    }
   ],
   "source": [
    "os.chdir(target_path)\n",
    "\n",
    "for i in os.listdir(target_path):\n",
    "    print(i, len(os.listdir(os.path.join(target_path, i))))"
   ]
  },
  {
   "cell_type": "markdown",
   "id": "5e361e0b-9bfb-464c-b73c-1dbbd16c2ad9",
   "metadata": {},
   "source": [
    "# DATASET ALLOCATION"
   ]
  },
  {
   "cell_type": "code",
   "execution_count": 7,
   "id": "a94a91c7-7c7d-4842-ae24-6c9585f9acb7",
   "metadata": {},
   "outputs": [],
   "source": [
    "import os\n",
    "import random\n",
    "import numpy as np\n",
    "from shutil import copy"
   ]
  },
  {
   "cell_type": "code",
   "execution_count": 8,
   "id": "e19653a6-5635-4161-b7d3-56bbecd562bf",
   "metadata": {},
   "outputs": [],
   "source": [
    "# cnn_path = \"D:\\Aj\\\\BirdClassification\\\\3rd method\\\\CNN4 with noise injection\"\n",
    "# cnn_path = \"D:\\\\Aj\\\\BirdClassification\\\\Addition sa dataset\\\\CNN 20 classes\"\n",
    "# cnn_path = \"D:\\\\Aj\\\\BirdClassification\\\\mel spec 20 classes 7 seconds\\\\CNN\"\n",
    "# cnn_path = \"D:\\\\Aj\\\\BirdClassification\\\\mel spec 20 classes 5 seconds\\\\CNN bandpass only\"\n",
    "# cnn_path = \"D:\\\\Aj\\\\BirdClassification\\\\mel spec 20 classes 5 seconds\\\\CNN noise reduce only\"\n",
    "cnn_path = \"D:\\\\Aj\\\\BirdClassification\\\\NEW DATASET\\\\FINAL DATASET\"\n",
    "# cnn_path = \"D:\\\\Aj\\\\BirdClassification\\\\mel spec 20 classes 7 seconds\\\\CNN median clipping\"\n",
    "# cnn_path = \"D:\\\\Aj\\\\BirdClassification\\\\mel spec 20 classes 5 seconds\\\\CNN median clipping\"\n",
    "\n",
    "# spectrogram_path = \"D:\\\\Aj\\\\BirdClassification\\\\3rd method\\\\Mel Spectrogram\"\n",
    "# spectrogram_path = \"D:\\\\Aj\\\\BirdClassification\\\\3rd method\\\\Mel Spectrogram5 sept1\\\\all\"\n",
    "# spectrogram_path = \"D:\\\\Aj\\\\BirdClassification\\\\Addition sa dataset\\\\Mel Specs 20 classes\"\n",
    "# spectrogram_path = \"D:\\\\Aj\\\\BirdClassification\\\\mel spec 20 classes 7 seconds\\\\Mel Spectrogram 20 classes\\\\all\"\n",
    "# spectrogram_path = \"D:\\\\Aj\\\\BirdClassification\\\\mel spec 20 classes 7 seconds\\\\Mel Spectrogram 20 classes median clipping\\\\all\"\n",
    "spectrogram_path = \"D:\\\\Aj\\\\BirdClassification\\\\NEW DATASET\\\\FINAL MEL SPEC\\\\all no noisereduced\"\n",
    "# spectrogram_path = \"D:\\\\Aj\\\\BirdClassification\\\\mel spec 20 classes 5 seconds\\\\Mel Spectrogram 20 classes with noise reduce only\\\\all\""
   ]
  },
  {
   "cell_type": "code",
   "execution_count": 9,
   "id": "6c0d65e7-e701-4711-96e2-d96f9464ace3",
   "metadata": {},
   "outputs": [],
   "source": [
    "## Creating folder for CNN\n",
    "if not os.path.exists(cnn_path):\n",
    "    os.mkdir(cnn_path)\n",
    "    \n",
    "if not os.path.exists(os.path.join(cnn_path, 'train')):\n",
    "    os.mkdir(os.path.join(cnn_path, 'train'))\n",
    "    \n",
    "if not os.path.exists(os.path.join(cnn_path, 'test')):\n",
    "    os.mkdir(os.path.join(cnn_path, 'test'))    \n",
    "    \n",
    "# create folder in CNN if not exist yet\n",
    "species_name = os.listdir(os.path.join(spectrogram_path))\n",
    "for i in species_name:\n",
    "    if not os.path.exists(os.path.join(cnn_path, 'train', i)):\n",
    "        os.mkdir(os.path.join(cnn_path, 'train', i))\n",
    "    if not os.path.exists(os.path.join(cnn_path, 'test', i)):\n",
    "        os.mkdir(os.path.join(cnn_path, 'test', i))"
   ]
  },
  {
   "cell_type": "code",
   "execution_count": 10,
   "id": "a034aee2-6539-4a9a-af10-319c4ec40886",
   "metadata": {},
   "outputs": [
    {
     "name": "stdout",
     "output_type": "stream",
     "text": [
      "['AsianGlossyStarling', 'Black-crownedNightHeron', 'Black-napedOriole', 'Blue-tailedBee-eater', 'BrownShrike', 'ChestnutMunia', 'CollaredKingfisher', 'EurasianTreeSparrow', 'Grey-backedTailorbird', 'GreyWagtail', 'MangroveBlueFlycatcher', 'Olive-backedSunbird', 'PhilippineMagpie-Robin', 'PhilippinePiedFantail', 'PiedBushChat', 'Red-keeledFlowerpecker', 'White-breastedWaterhen', 'Yellow-ventedBulbul', 'ZebraDove'] 19\n"
     ]
    }
   ],
   "source": [
    "print(species_name, len(species_name))"
   ]
  },
  {
   "cell_type": "code",
   "execution_count": 11,
   "id": "cb90ad8b-3590-49c1-b826-d625c0d1bfee",
   "metadata": {},
   "outputs": [],
   "source": [
    "# Using Stratified Random Sampling with 80% train & 20% validation\n",
    "def allocate_imgs(img):\n",
    "    count = []\n",
    "    for _, _, files in os.walk(spectrogram_path):\n",
    "        x = len(files)\n",
    "        count.append(x)\n",
    "    count.remove(0)\n",
    "    min_files = min(count)\n",
    "    train_number = round(min_files * 0.8)\n",
    "    valid_number = round(min_files * 0.2)\n",
    "    return train_number, valid_number"
   ]
  },
  {
   "cell_type": "code",
   "execution_count": 12,
   "id": "d1d98d7e-2086-475f-b3a5-44f0c39c29e3",
   "metadata": {},
   "outputs": [
    {
     "name": "stdout",
     "output_type": "stream",
     "text": [
      "For AsianGlossyStarling folder, 346 images are used for training and 86 images are used for validation.\n",
      "For Black-crownedNightHeron folder, 346 images are used for training and 86 images are used for validation.\n",
      "For Black-napedOriole folder, 346 images are used for training and 86 images are used for validation.\n",
      "For Blue-tailedBee-eater folder, 346 images are used for training and 86 images are used for validation.\n",
      "For BrownShrike folder, 346 images are used for training and 86 images are used for validation.\n",
      "For ChestnutMunia folder, 346 images are used for training and 86 images are used for validation.\n",
      "For CollaredKingfisher folder, 346 images are used for training and 86 images are used for validation.\n",
      "For EurasianTreeSparrow folder, 346 images are used for training and 86 images are used for validation.\n",
      "For Grey-backedTailorbird folder, 346 images are used for training and 86 images are used for validation.\n",
      "For GreyWagtail folder, 346 images are used for training and 86 images are used for validation.\n",
      "For MangroveBlueFlycatcher folder, 346 images are used for training and 86 images are used for validation.\n",
      "For Olive-backedSunbird folder, 346 images are used for training and 86 images are used for validation.\n",
      "For PhilippineMagpie-Robin folder, 346 images are used for training and 86 images are used for validation.\n",
      "For PhilippinePiedFantail folder, 346 images are used for training and 86 images are used for validation.\n",
      "For PiedBushChat folder, 346 images are used for training and 86 images are used for validation.\n",
      "For Red-keeledFlowerpecker folder, 346 images are used for training and 86 images are used for validation.\n",
      "For White-breastedWaterhen folder, 346 images are used for training and 86 images are used for validation.\n",
      "For Yellow-ventedBulbul folder, 346 images are used for training and 86 images are used for validation.\n",
      "For ZebraDove folder, 346 images are used for training and 86 images are used for validation.\n"
     ]
    }
   ],
   "source": [
    "train_number, valid_number = allocate_imgs(os.listdir(spectrogram_path))\n",
    "\n",
    "for root, _, files in os.walk(spectrogram_path):\n",
    "    if root != spectrogram_path:\n",
    "        os.chdir(root)\n",
    "        img = os.listdir()\n",
    "        species_name = os.path.split(root)\n",
    "        species_name = species_name[-1]\n",
    "\n",
    "        \"\"\"\n",
    "        get the number of images used for training. the rest are for validation\n",
    "        allocate images to training and validation folders. 70% training 30% validation\n",
    "        Cut the random samples and paste it to the train/validation folder \n",
    "        \"\"\"\n",
    "\n",
    "        if species_name != \"\":\n",
    "            ### For the training sample\n",
    "            train_sample = random.sample(img, train_number)\n",
    "            for i in train_sample:\n",
    "                copy(i, os.path.join(cnn_path, 'train', species_name))\n",
    "                # img.remove(i)   \n",
    "\n",
    "                \"\"\" \n",
    "                Images sent to the training folder are not removed. By removing each image sent to the training folder, it avoids the possibility of\n",
    "                having a duplicate sent to the validation folder. Drawback of this is once the code is run, the number of images inside the source folder\n",
    "                is less than the original number. This means the mel specs of the audios must be extracted again to obtain the original source.\n",
    "                \"\"\"\n",
    "\n",
    "            ### For the Validation Sample\n",
    "            valid_sample = random.sample(img, valid_number)\n",
    "            for i in valid_sample:\n",
    "                copy(i, os.path.join(cnn_path, 'test', species_name))\n",
    "            \n",
    "        print(f\"For {species_name} folder, {train_number} images are used for training and {valid_number} images are used for validation.\")"
   ]
  },
  {
   "cell_type": "code",
   "execution_count": 17,
   "id": "da8b3e86-b586-4171-ae93-79f8c8e14245",
   "metadata": {},
   "outputs": [
    {
     "name": "stdout",
     "output_type": "stream",
     "text": [
      "AsianGlossyStarling 827\n",
      "Black-crownedNightHeron 618\n",
      "Black-napedOriole 1256\n",
      "Blue-headedFantail 1463\n",
      "Blue-tailedBee-eater 680\n",
      "BrownShrike 987\n",
      "ChestnutMunia 436\n",
      "CollaredKingfisher 1796\n",
      "EurasianTreeSparrow 4343\n",
      "Grey-backedTailorbird 644\n",
      "GreyWagtail 815\n",
      "MangroveBlueFlycatcher 1162\n",
      "Olive-backedSunbird 1809\n",
      "PhilippinePiedFantail 715\n",
      "PiedBushChat 727\n",
      "Red-keeledFlowerpecker 647\n",
      "White-breastedWaterhen 818\n",
      "Yellow-ventedBulbul 851\n",
      "ZebraDove 2280\n"
     ]
    }
   ],
   "source": [
    "os.chdir(spectrogram_path)\n",
    "\n",
    "for i in os.listdir(spectrogram_path):\n",
    "    print(i, len(os.listdir(os.path.join(spectrogram_path, i))))"
   ]
  },
  {
   "cell_type": "markdown",
   "id": "732ef031-8a13-428c-a09a-d2e68b39cb75",
   "metadata": {
    "tags": []
   },
   "source": [
    "# MP3 TO WAV CONVERTER"
   ]
  },
  {
   "cell_type": "code",
   "execution_count": 1,
   "id": "76286e8b-bd37-4891-95a8-294f92a7d71c",
   "metadata": {},
   "outputs": [],
   "source": [
    "import os\n",
    "from pydub import AudioSegment"
   ]
  },
  {
   "cell_type": "code",
   "execution_count": 2,
   "id": "c89fc268-c66c-4bff-942e-7a1df82a6209",
   "metadata": {},
   "outputs": [],
   "source": [
    "# path = \"D:\\\\Aj\\\\2nd dataset\\\\dataset\"\n",
    "# path = \"D:\\\\Aj\"\n",
    "path = \"D:\\\\Aj\\\\BirdClassification\\\\NEW DATASET\\\\NEW AUDIOS\""
   ]
  },
  {
   "cell_type": "markdown",
   "id": "068409f6-1efa-45bc-91bc-c2708c258711",
   "metadata": {
    "tags": []
   },
   "source": [
    "## MP3 TO WAV"
   ]
  },
  {
   "cell_type": "code",
   "execution_count": 3,
   "id": "779bc96d-e657-4a70-81a7-e7d8b7ff3a9a",
   "metadata": {},
   "outputs": [
    {
     "name": "stdout",
     "output_type": "stream",
     "text": [
      "D:\\Aj\\BirdClassification\\NEW DATASET\\NEW AUDIOS\n",
      "D:\\Aj\\BirdClassification\\NEW DATASET\\NEW AUDIOS\\CollaredKingfisher\n",
      "D:\\Aj\\BirdClassification\\NEW DATASET\\NEW AUDIOS\\EurasianTreeSparrow\n",
      "D:\\Aj\\BirdClassification\\NEW DATASET\\NEW AUDIOS\\Red-keeledFlowerpecker\n"
     ]
    }
   ],
   "source": [
    "file_list = []\n",
    "\n",
    "for root, dirs, files in os.walk(path):\n",
    "    print(root)\n",
    "    os.chdir(root)\n",
    "    audio_files = os.listdir()\n",
    "    for name in audio_files:\n",
    "        first, ext = os.path.splitext(name)\n",
    "        if ext == \".mp3\":\n",
    "            mp3_sound = AudioSegment.from_mp3(name)\n",
    "            \n",
    "            # rename them using the old name + \".wav\"\n",
    "            mp3_sound.export(\"{0}.wav\".format(first), format=\"wav\")\n",
    "            \n",
    "            # Deleting the .mp3 files para lahat .wav lang\n",
    "            os.remove(name)"
   ]
  },
  {
   "cell_type": "markdown",
   "id": "3c1caa26-3692-4efa-bdb2-4a841a771089",
   "metadata": {
    "tags": []
   },
   "source": [
    "# NOISE INJECTION"
   ]
  },
  {
   "cell_type": "code",
   "execution_count": 35,
   "id": "87d45c3a-5135-4f41-b614-8ffec5f4a373",
   "metadata": {},
   "outputs": [],
   "source": [
    "import os\n",
    "import scipy\n",
    "import numpy as np\n",
    "import soundfile as sf\n",
    "import librosa as lb\n",
    "import noisereduce as nr\n",
    "from scipy.signal import butter, lfilter"
   ]
  },
  {
   "cell_type": "markdown",
   "id": "491915c6-5c43-4b5b-8012-782fe6470bc1",
   "metadata": {},
   "source": [
    "### Filepaths and Creating Folders"
   ]
  },
  {
   "cell_type": "code",
   "execution_count": 41,
   "id": "db69cd65-0d43-4584-be75-97dbb0e576a7",
   "metadata": {},
   "outputs": [],
   "source": [
    "nr_audios_path = \"D:\\\\Aj\\\\BirdClassification\\\\NEW DATASET\\\\NEW AUDIOS\"\n",
    "wavfiles_path = \"D:\\\\Aj\\\\BirdClassification\\\\NEW DATASET\\\\audio dataset\\\\original\"\n",
    "\n",
    "## List the species names\n",
    "species = os.listdir(wavfiles_path)\n",
    "# species = [\"ZebraDove\"]"
   ]
  },
  {
   "cell_type": "code",
   "execution_count": 42,
   "id": "9c6e9a5b-303c-46df-9271-1e25b6a7d33b",
   "metadata": {},
   "outputs": [],
   "source": [
    "if not os.path.exists(nr_audios_path):\n",
    "    os.mkdir(nr_audios_path)\n",
    "    \n",
    "for i in species:\n",
    "    folders = os.path.join(nr_audios_path, i)\n",
    "    if not os.path.exists(folders):\n",
    "        os.mkdir(folders)"
   ]
  },
  {
   "cell_type": "markdown",
   "id": "9fefedbd-c008-40ae-bbe0-2c4df049d093",
   "metadata": {},
   "source": [
    "### Functions"
   ]
  },
  {
   "cell_type": "code",
   "execution_count": 40,
   "id": "a7563767-27a1-4571-83a8-4a89fe7035ae",
   "metadata": {},
   "outputs": [],
   "source": [
    "def butter_bandpass(lowcut, highcut, fs, order=6):\n",
    "    return butter(order, [lowcut, highcut], fs=fs, btype='band')\n",
    "\n",
    "def butter_bandpass_filter(data, lowcut, highcut, fs, order=5):\n",
    "    b, a = butter_bandpass(lowcut, highcut, fs, order=order)\n",
    "    y = lfilter(b, a, data)\n",
    "    return y\n",
    "\n",
    "def birdfrequency(index):\n",
    "    birdfreq = species_freq[index]\n",
    "    bound = birdfreq * 0.25\n",
    "    return birdfreq, bound"
   ]
  },
  {
   "cell_type": "markdown",
   "id": "40160856-3b4b-4dbf-b94c-1986ef58ef5a",
   "metadata": {},
   "source": [
    "### Process the Audio Files"
   ]
  },
  {
   "cell_type": "code",
   "execution_count": 8,
   "id": "88ea7a19-0500-48ff-80be-4ce9f45a9946",
   "metadata": {},
   "outputs": [],
   "source": [
    "# speciesfreq_path = \"D:\\\\Aj\\\\project\\\\species frequencies.txt\"\n",
    "\n",
    "# with open(speciesfreq_path, 'r') as f:\n",
    "#     species_freq = f.readlines()\n",
    "#     species_freq = species_freq[0]\n",
    "#     species_freq = species_freq.strip(\"[]\")\n",
    "#     species_freq = species_freq.split(\",\")\n",
    "    \n",
    "# for idx, line in enumerate(species_freq):\n",
    "#     species_freq[idx] = float(line)\n",
    "    \n",
    "# print(species_freq)\n",
    "\n",
    "species_freq = [3604.90, 4128.35, 7577.61]"
   ]
  },
  {
   "cell_type": "code",
   "execution_count": 13,
   "id": "e63856b2-e581-41d7-aa9e-0096553de97f",
   "metadata": {},
   "outputs": [],
   "source": [
    "path = \"D:\\\\Aj\\\\BirdClassification\\\\FROM RPI RECORDINGS\"\n",
    "file = \"D:\\\\Aj\\\\BirdClassification\\\\FROM RPI RECORDINGS\\\\2022-10-21_BeforeDawn_Recording5.wav\"\n",
    "\n",
    "sr = 22050"
   ]
  },
  {
   "cell_type": "code",
   "execution_count": 15,
   "id": "ec855345-8fc0-4957-9be5-355dc74f778f",
   "metadata": {},
   "outputs": [],
   "source": [
    "audio, _ = lb.load(file, sr=sr)\n",
    "audio = butter_bandpass_filter(audio, 1000, 11000, sr)\n",
    "\n",
    "first = \"2022-10-21_BeforeDawn_Recording5\"\n",
    "filename = f\"{first}_nr.wav\"\n",
    "os.chdir(path)\n",
    "sf.write(filename, audio, sr, format=\"wav\")"
   ]
  },
  {
   "cell_type": "code",
   "execution_count": 9,
   "id": "f354fd4a-1152-49de-8925-1a96b6d51f6a",
   "metadata": {},
   "outputs": [
    {
     "name": "stdout",
     "output_type": "stream",
     "text": [
      "121823.wav\n",
      "121824.wav\n"
     ]
    },
    {
     "name": "stderr",
     "output_type": "stream",
     "text": [
      "100%|████████████████████████████████████████████████████████████████████████████████████| 2/2 [00:00<00:00,  2.84it/s]\n"
     ]
    },
    {
     "name": "stdout",
     "output_type": "stream",
     "text": [
      "151130.wav\n",
      "151131.wav\n"
     ]
    },
    {
     "name": "stderr",
     "output_type": "stream",
     "text": [
      "100%|████████████████████████████████████████████████████████████████████████████████████| 2/2 [00:00<00:00,  2.98it/s]\n"
     ]
    },
    {
     "name": "stdout",
     "output_type": "stream",
     "text": [
      "151135.wav\n"
     ]
    },
    {
     "name": "stderr",
     "output_type": "stream",
     "text": [
      "100%|████████████████████████████████████████████████████████████████████████████████████| 2/2 [00:00<00:00,  2.37it/s]\n"
     ]
    },
    {
     "name": "stdout",
     "output_type": "stream",
     "text": [
      "151136.wav\n"
     ]
    },
    {
     "name": "stderr",
     "output_type": "stream",
     "text": [
      "100%|████████████████████████████████████████████████████████████████████████████████████| 5/5 [00:02<00:00,  2.20it/s]\n"
     ]
    },
    {
     "name": "stdout",
     "output_type": "stream",
     "text": [
      "151642.wav\n"
     ]
    },
    {
     "name": "stderr",
     "output_type": "stream",
     "text": [
      "100%|████████████████████████████████████████████████████████████████████████████████████| 2/2 [00:00<00:00,  2.18it/s]\n"
     ]
    },
    {
     "name": "stdout",
     "output_type": "stream",
     "text": [
      "152005.wav\n",
      "152203.wav\n"
     ]
    },
    {
     "name": "stderr",
     "output_type": "stream",
     "text": [
      "100%|████████████████████████████████████████████████████████████████████████████████████| 2/2 [00:01<00:00,  1.51it/s]\n"
     ]
    },
    {
     "name": "stdout",
     "output_type": "stream",
     "text": [
      "164689.wav\n"
     ]
    },
    {
     "name": "stderr",
     "output_type": "stream",
     "text": [
      "100%|████████████████████████████████████████████████████████████████████████████████████| 3/3 [00:01<00:00,  1.69it/s]\n"
     ]
    },
    {
     "name": "stdout",
     "output_type": "stream",
     "text": [
      "164693.wav\n"
     ]
    },
    {
     "name": "stderr",
     "output_type": "stream",
     "text": [
      "100%|████████████████████████████████████████████████████████████████████████████████████| 3/3 [00:01<00:00,  2.75it/s]\n"
     ]
    },
    {
     "name": "stdout",
     "output_type": "stream",
     "text": [
      "166851.wav\n",
      "177320.wav\n"
     ]
    },
    {
     "name": "stderr",
     "output_type": "stream",
     "text": [
      "100%|████████████████████████████████████████████████████████████████████████████████████| 4/4 [00:01<00:00,  2.68it/s]\n"
     ]
    },
    {
     "name": "stdout",
     "output_type": "stream",
     "text": [
      "179372.wav\n",
      "179374.wav\n"
     ]
    },
    {
     "name": "stderr",
     "output_type": "stream",
     "text": [
      "100%|████████████████████████████████████████████████████████████████████████████████████| 2/2 [00:00<00:00,  2.94it/s]\n"
     ]
    },
    {
     "name": "stdout",
     "output_type": "stream",
     "text": [
      "181238.wav\n",
      "186559.wav\n"
     ]
    },
    {
     "name": "stderr",
     "output_type": "stream",
     "text": [
      "100%|████████████████████████████████████████████████████████████████████████████████████| 2/2 [00:00<00:00,  2.92it/s]\n"
     ]
    },
    {
     "name": "stdout",
     "output_type": "stream",
     "text": [
      "192025.wav\n",
      "192026.wav\n",
      "197619.wav\n"
     ]
    },
    {
     "name": "stderr",
     "output_type": "stream",
     "text": [
      "100%|████████████████████████████████████████████████████████████████████████████████████| 3/3 [00:00<00:00,  3.09it/s]\n"
     ]
    },
    {
     "name": "stdout",
     "output_type": "stream",
     "text": [
      "269435.wav\n"
     ]
    },
    {
     "name": "stderr",
     "output_type": "stream",
     "text": [
      "100%|████████████████████████████████████████████████████████████████████████████████████| 2/2 [00:00<00:00,  2.76it/s]\n"
     ]
    },
    {
     "name": "stdout",
     "output_type": "stream",
     "text": [
      "269988.wav\n",
      "290553.wav\n"
     ]
    },
    {
     "name": "stderr",
     "output_type": "stream",
     "text": [
      "100%|████████████████████████████████████████████████████████████████████████████████████| 2/2 [00:00<00:00,  2.96it/s]\n"
     ]
    },
    {
     "name": "stdout",
     "output_type": "stream",
     "text": [
      "290554.wav\n"
     ]
    },
    {
     "name": "stderr",
     "output_type": "stream",
     "text": [
      "100%|████████████████████████████████████████████████████████████████████████████████████| 2/2 [00:00<00:00,  3.12it/s]\n"
     ]
    },
    {
     "name": "stdout",
     "output_type": "stream",
     "text": [
      "290555.wav\n",
      "293219.wav\n"
     ]
    },
    {
     "name": "stderr",
     "output_type": "stream",
     "text": [
      "100%|████████████████████████████████████████████████████████████████████████████████████| 4/4 [00:01<00:00,  2.94it/s]\n"
     ]
    },
    {
     "name": "stdout",
     "output_type": "stream",
     "text": [
      "295158.wav\n"
     ]
    },
    {
     "name": "stderr",
     "output_type": "stream",
     "text": [
      "100%|████████████████████████████████████████████████████████████████████████████████████| 2/2 [00:00<00:00,  2.59it/s]\n"
     ]
    },
    {
     "name": "stdout",
     "output_type": "stream",
     "text": [
      "327431.wav\n"
     ]
    },
    {
     "name": "stderr",
     "output_type": "stream",
     "text": [
      "100%|████████████████████████████████████████████████████████████████████████████████████| 2/2 [00:00<00:00,  2.73it/s]\n"
     ]
    },
    {
     "name": "stdout",
     "output_type": "stream",
     "text": [
      "338730.wav\n"
     ]
    },
    {
     "name": "stderr",
     "output_type": "stream",
     "text": [
      "100%|████████████████████████████████████████████████████████████████████████████████████| 2/2 [00:00<00:00,  2.70it/s]\n"
     ]
    },
    {
     "name": "stdout",
     "output_type": "stream",
     "text": [
      "356241.wav\n"
     ]
    },
    {
     "name": "stderr",
     "output_type": "stream",
     "text": [
      "100%|████████████████████████████████████████████████████████████████████████████████████| 3/3 [00:00<00:00,  3.05it/s]\n"
     ]
    },
    {
     "name": "stdout",
     "output_type": "stream",
     "text": [
      "36965.wav\n"
     ]
    },
    {
     "name": "stderr",
     "output_type": "stream",
     "text": [
      "100%|████████████████████████████████████████████████████████████████████████████████████| 2/2 [00:00<00:00,  2.97it/s]\n"
     ]
    },
    {
     "name": "stdout",
     "output_type": "stream",
     "text": [
      "376315.wav\n",
      "376316.wav\n",
      "39156.wav\n"
     ]
    },
    {
     "name": "stderr",
     "output_type": "stream",
     "text": [
      "100%|████████████████████████████████████████████████████████████████████████████████████| 2/2 [00:00<00:00,  2.87it/s]\n"
     ]
    },
    {
     "name": "stdout",
     "output_type": "stream",
     "text": [
      "402013.wav\n"
     ]
    },
    {
     "name": "stderr",
     "output_type": "stream",
     "text": [
      "100%|████████████████████████████████████████████████████████████████████████████████████| 4/4 [00:01<00:00,  3.08it/s]\n"
     ]
    },
    {
     "name": "stdout",
     "output_type": "stream",
     "text": [
      "481276.wav\n",
      "501968.wav\n"
     ]
    },
    {
     "name": "stderr",
     "output_type": "stream",
     "text": [
      "100%|████████████████████████████████████████████████████████████████████████████████████| 3/3 [00:00<00:00,  3.08it/s]\n"
     ]
    },
    {
     "name": "stdout",
     "output_type": "stream",
     "text": [
      "575558.wav\n",
      "575559.wav\n"
     ]
    },
    {
     "name": "stderr",
     "output_type": "stream",
     "text": [
      "100%|████████████████████████████████████████████████████████████████████████████████████| 3/3 [00:01<00:00,  2.97it/s]\n"
     ]
    },
    {
     "name": "stdout",
     "output_type": "stream",
     "text": [
      "619809.wav\n"
     ]
    },
    {
     "name": "stderr",
     "output_type": "stream",
     "text": [
      "100%|████████████████████████████████████████████████████████████████████████████████████| 2/2 [00:00<00:00,  2.89it/s]\n"
     ]
    },
    {
     "name": "stdout",
     "output_type": "stream",
     "text": [
      "631904.wav\n"
     ]
    },
    {
     "name": "stderr",
     "output_type": "stream",
     "text": [
      "100%|████████████████████████████████████████████████████████████████████████████████████| 3/3 [00:01<00:00,  2.99it/s]\n"
     ]
    },
    {
     "name": "stdout",
     "output_type": "stream",
     "text": [
      "631908.wav\n",
      "647048.wav\n"
     ]
    },
    {
     "name": "stderr",
     "output_type": "stream",
     "text": [
      "100%|████████████████████████████████████████████████████████████████████████████████████| 2/2 [00:00<00:00,  3.16it/s]\n"
     ]
    },
    {
     "name": "stdout",
     "output_type": "stream",
     "text": [
      "86946.wav\n"
     ]
    },
    {
     "name": "stderr",
     "output_type": "stream",
     "text": [
      "100%|████████████████████████████████████████████████████████████████████████████████████| 2/2 [00:00<00:00,  3.05it/s]\n"
     ]
    },
    {
     "name": "stdout",
     "output_type": "stream",
     "text": [
      "86947.wav\n"
     ]
    },
    {
     "name": "stderr",
     "output_type": "stream",
     "text": [
      "100%|████████████████████████████████████████████████████████████████████████████████████| 3/3 [00:00<00:00,  3.01it/s]\n"
     ]
    },
    {
     "name": "stdout",
     "output_type": "stream",
     "text": [
      "89927.wav\n",
      "640741.wav\n",
      "647020.wav\n"
     ]
    },
    {
     "name": "stderr",
     "output_type": "stream",
     "text": [
      "100%|████████████████████████████████████████████████████████████████████████████████████| 2/2 [00:00<00:00,  3.02it/s]\n"
     ]
    },
    {
     "name": "stdout",
     "output_type": "stream",
     "text": [
      "651246.wav\n"
     ]
    },
    {
     "name": "stderr",
     "output_type": "stream",
     "text": [
      "100%|████████████████████████████████████████████████████████████████████████████████████| 3/3 [00:01<00:00,  3.00it/s]\n"
     ]
    },
    {
     "name": "stdout",
     "output_type": "stream",
     "text": [
      "652220.wav\n"
     ]
    },
    {
     "name": "stderr",
     "output_type": "stream",
     "text": [
      "100%|████████████████████████████████████████████████████████████████████████████████████| 4/4 [00:01<00:00,  2.95it/s]\n"
     ]
    },
    {
     "name": "stdout",
     "output_type": "stream",
     "text": [
      "654313.wav\n"
     ]
    },
    {
     "name": "stderr",
     "output_type": "stream",
     "text": [
      "100%|████████████████████████████████████████████████████████████████████████████████████| 7/7 [00:02<00:00,  2.50it/s]\n"
     ]
    },
    {
     "name": "stdout",
     "output_type": "stream",
     "text": [
      "656074.wav\n",
      "656075.wav\n"
     ]
    },
    {
     "name": "stderr",
     "output_type": "stream",
     "text": [
      "100%|████████████████████████████████████████████████████████████████████████████████████| 2/2 [00:00<00:00,  2.53it/s]\n"
     ]
    },
    {
     "name": "stdout",
     "output_type": "stream",
     "text": [
      "656076.wav\n"
     ]
    },
    {
     "name": "stderr",
     "output_type": "stream",
     "text": [
      "100%|████████████████████████████████████████████████████████████████████████████████████| 2/2 [00:00<00:00,  2.41it/s]\n"
     ]
    },
    {
     "name": "stdout",
     "output_type": "stream",
     "text": [
      "656077.wav\n"
     ]
    },
    {
     "name": "stderr",
     "output_type": "stream",
     "text": [
      "100%|████████████████████████████████████████████████████████████████████████████████████| 3/3 [00:01<00:00,  2.77it/s]\n"
     ]
    },
    {
     "name": "stdout",
     "output_type": "stream",
     "text": [
      "656079.wav\n"
     ]
    },
    {
     "name": "stderr",
     "output_type": "stream",
     "text": [
      "100%|████████████████████████████████████████████████████████████████████████████████████| 4/4 [00:01<00:00,  2.49it/s]\n"
     ]
    },
    {
     "name": "stdout",
     "output_type": "stream",
     "text": [
      "656081.wav\n"
     ]
    },
    {
     "name": "stderr",
     "output_type": "stream",
     "text": [
      "100%|████████████████████████████████████████████████████████████████████████████████████| 2/2 [00:00<00:00,  2.53it/s]\n"
     ]
    },
    {
     "name": "stdout",
     "output_type": "stream",
     "text": [
      "656083.wav\n"
     ]
    },
    {
     "name": "stderr",
     "output_type": "stream",
     "text": [
      "100%|████████████████████████████████████████████████████████████████████████████████████| 3/3 [00:01<00:00,  1.96it/s]\n"
     ]
    },
    {
     "name": "stdout",
     "output_type": "stream",
     "text": [
      "656912.wav\n"
     ]
    },
    {
     "name": "stderr",
     "output_type": "stream",
     "text": [
      "100%|████████████████████████████████████████████████████████████████████████████████████| 2/2 [00:00<00:00,  2.22it/s]\n"
     ]
    },
    {
     "name": "stdout",
     "output_type": "stream",
     "text": [
      "657799.wav\n"
     ]
    },
    {
     "name": "stderr",
     "output_type": "stream",
     "text": [
      "100%|████████████████████████████████████████████████████████████████████████████████████| 2/2 [00:00<00:00,  2.18it/s]\n"
     ]
    },
    {
     "name": "stdout",
     "output_type": "stream",
     "text": [
      "658099.wav\n"
     ]
    },
    {
     "name": "stderr",
     "output_type": "stream",
     "text": [
      "100%|████████████████████████████████████████████████████████████████████████████████████| 5/5 [00:02<00:00,  2.26it/s]\n"
     ]
    },
    {
     "name": "stdout",
     "output_type": "stream",
     "text": [
      "658100.wav\n"
     ]
    },
    {
     "name": "stderr",
     "output_type": "stream",
     "text": [
      "100%|████████████████████████████████████████████████████████████████████████████████████| 2/2 [00:00<00:00,  3.07it/s]\n"
     ]
    },
    {
     "name": "stdout",
     "output_type": "stream",
     "text": [
      "660618.wav\n"
     ]
    },
    {
     "name": "stderr",
     "output_type": "stream",
     "text": [
      "100%|████████████████████████████████████████████████████████████████████████████████████| 2/2 [00:00<00:00,  3.05it/s]\n"
     ]
    },
    {
     "name": "stdout",
     "output_type": "stream",
     "text": [
      "664001.wav\n",
      "665130.wav\n"
     ]
    },
    {
     "name": "stderr",
     "output_type": "stream",
     "text": [
      "100%|████████████████████████████████████████████████████████████████████████████████████| 4/4 [00:01<00:00,  3.06it/s]\n"
     ]
    },
    {
     "name": "stdout",
     "output_type": "stream",
     "text": [
      "666859.wav\n"
     ]
    },
    {
     "name": "stderr",
     "output_type": "stream",
     "text": [
      "100%|████████████████████████████████████████████████████████████████████████████████████| 4/4 [00:01<00:00,  3.14it/s]\n"
     ]
    },
    {
     "name": "stdout",
     "output_type": "stream",
     "text": [
      "668118.wav\n"
     ]
    },
    {
     "name": "stderr",
     "output_type": "stream",
     "text": [
      "100%|████████████████████████████████████████████████████████████████████████████████████| 2/2 [00:00<00:00,  3.14it/s]\n"
     ]
    },
    {
     "name": "stdout",
     "output_type": "stream",
     "text": [
      "668119.wav\n",
      "668120.wav\n"
     ]
    },
    {
     "name": "stderr",
     "output_type": "stream",
     "text": [
      "100%|████████████████████████████████████████████████████████████████████████████████████| 2/2 [00:00<00:00,  3.16it/s]\n"
     ]
    },
    {
     "name": "stdout",
     "output_type": "stream",
     "text": [
      "669475.wav\n"
     ]
    },
    {
     "name": "stderr",
     "output_type": "stream",
     "text": [
      "100%|████████████████████████████████████████████████████████████████████████████████████| 2/2 [00:00<00:00,  3.00it/s]\n"
     ]
    },
    {
     "name": "stdout",
     "output_type": "stream",
     "text": [
      "670877.wav\n"
     ]
    },
    {
     "name": "stderr",
     "output_type": "stream",
     "text": [
      "100%|████████████████████████████████████████████████████████████████████████████████████| 2/2 [00:00<00:00,  3.09it/s]\n"
     ]
    },
    {
     "name": "stdout",
     "output_type": "stream",
     "text": [
      "679234.wav\n",
      "679322.wav\n"
     ]
    },
    {
     "name": "stderr",
     "output_type": "stream",
     "text": [
      "100%|████████████████████████████████████████████████████████████████████████████████████| 2/2 [00:00<00:00,  2.73it/s]\n"
     ]
    },
    {
     "name": "stdout",
     "output_type": "stream",
     "text": [
      "679355.wav\n"
     ]
    },
    {
     "name": "stderr",
     "output_type": "stream",
     "text": [
      "100%|████████████████████████████████████████████████████████████████████████████████████| 2/2 [00:00<00:00,  3.08it/s]\n"
     ]
    },
    {
     "name": "stdout",
     "output_type": "stream",
     "text": [
      "679436.wav\n"
     ]
    },
    {
     "name": "stderr",
     "output_type": "stream",
     "text": [
      "100%|████████████████████████████████████████████████████████████████████████████████████| 2/2 [00:00<00:00,  3.11it/s]\n"
     ]
    },
    {
     "name": "stdout",
     "output_type": "stream",
     "text": [
      "679503.wav\n"
     ]
    },
    {
     "name": "stderr",
     "output_type": "stream",
     "text": [
      "100%|████████████████████████████████████████████████████████████████████████████████████| 5/5 [00:01<00:00,  3.00it/s]\n"
     ]
    },
    {
     "name": "stdout",
     "output_type": "stream",
     "text": [
      "679530.wav\n"
     ]
    },
    {
     "name": "stderr",
     "output_type": "stream",
     "text": [
      "100%|████████████████████████████████████████████████████████████████████████████████████| 3/3 [00:01<00:00,  2.88it/s]\n"
     ]
    },
    {
     "name": "stdout",
     "output_type": "stream",
     "text": [
      "679885.wav\n"
     ]
    },
    {
     "name": "stderr",
     "output_type": "stream",
     "text": [
      "100%|████████████████████████████████████████████████████████████████████████████████████| 4/4 [00:01<00:00,  2.91it/s]\n"
     ]
    },
    {
     "name": "stdout",
     "output_type": "stream",
     "text": [
      "685096.wav\n"
     ]
    },
    {
     "name": "stderr",
     "output_type": "stream",
     "text": [
      "100%|████████████████████████████████████████████████████████████████████████████████████| 2/2 [00:00<00:00,  3.01it/s]\n"
     ]
    },
    {
     "name": "stdout",
     "output_type": "stream",
     "text": [
      "687471.wav\n"
     ]
    },
    {
     "name": "stderr",
     "output_type": "stream",
     "text": [
      "100%|████████████████████████████████████████████████████████████████████████████████████| 3/3 [00:00<00:00,  3.11it/s]\n"
     ]
    },
    {
     "name": "stdout",
     "output_type": "stream",
     "text": [
      "690645.wav\n",
      "696161.wav\n"
     ]
    },
    {
     "name": "stderr",
     "output_type": "stream",
     "text": [
      "100%|████████████████████████████████████████████████████████████████████████████████████| 3/3 [00:01<00:00,  2.88it/s]\n"
     ]
    },
    {
     "name": "stdout",
     "output_type": "stream",
     "text": [
      "696880.wav\n"
     ]
    },
    {
     "name": "stderr",
     "output_type": "stream",
     "text": [
      "100%|████████████████████████████████████████████████████████████████████████████████████| 3/3 [00:00<00:00,  3.03it/s]\n"
     ]
    },
    {
     "name": "stdout",
     "output_type": "stream",
     "text": [
      "697507.wav\n"
     ]
    },
    {
     "name": "stderr",
     "output_type": "stream",
     "text": [
      "100%|████████████████████████████████████████████████████████████████████████████████████| 3/3 [00:01<00:00,  2.94it/s]\n"
     ]
    },
    {
     "name": "stdout",
     "output_type": "stream",
     "text": [
      "697536.wav\n"
     ]
    },
    {
     "name": "stderr",
     "output_type": "stream",
     "text": [
      "100%|████████████████████████████████████████████████████████████████████████████████████| 4/4 [00:01<00:00,  2.79it/s]\n"
     ]
    },
    {
     "name": "stdout",
     "output_type": "stream",
     "text": [
      "697571.wav\n"
     ]
    },
    {
     "name": "stderr",
     "output_type": "stream",
     "text": [
      "100%|████████████████████████████████████████████████████████████████████████████████████| 2/2 [00:00<00:00,  2.76it/s]\n"
     ]
    },
    {
     "name": "stdout",
     "output_type": "stream",
     "text": [
      "699014.wav\n"
     ]
    },
    {
     "name": "stderr",
     "output_type": "stream",
     "text": [
      "100%|████████████████████████████████████████████████████████████████████████████████████| 3/3 [00:01<00:00,  2.91it/s]\n"
     ]
    },
    {
     "name": "stdout",
     "output_type": "stream",
     "text": [
      "699131.wav\n"
     ]
    },
    {
     "name": "stderr",
     "output_type": "stream",
     "text": [
      "100%|████████████████████████████████████████████████████████████████████████████████████| 2/2 [00:00<00:00,  3.13it/s]\n"
     ]
    },
    {
     "name": "stdout",
     "output_type": "stream",
     "text": [
      "699133.wav\n"
     ]
    },
    {
     "name": "stderr",
     "output_type": "stream",
     "text": [
      "100%|████████████████████████████████████████████████████████████████████████████████████| 4/4 [00:01<00:00,  2.96it/s]\n"
     ]
    },
    {
     "name": "stdout",
     "output_type": "stream",
     "text": [
      "699886.wav\n"
     ]
    },
    {
     "name": "stderr",
     "output_type": "stream",
     "text": [
      "100%|██████████████████████████████████████████████████████████████████████████████████| 10/10 [00:03<00:00,  2.91it/s]\n"
     ]
    },
    {
     "name": "stdout",
     "output_type": "stream",
     "text": [
      "700315.wav\n"
     ]
    },
    {
     "name": "stderr",
     "output_type": "stream",
     "text": [
      "100%|████████████████████████████████████████████████████████████████████████████████████| 3/3 [00:01<00:00,  2.91it/s]\n"
     ]
    },
    {
     "name": "stdout",
     "output_type": "stream",
     "text": [
      "700317.wav\n"
     ]
    },
    {
     "name": "stderr",
     "output_type": "stream",
     "text": [
      "100%|████████████████████████████████████████████████████████████████████████████████████| 2/2 [00:00<00:00,  3.08it/s]\n"
     ]
    },
    {
     "name": "stdout",
     "output_type": "stream",
     "text": [
      "700325.wav\n"
     ]
    },
    {
     "name": "stderr",
     "output_type": "stream",
     "text": [
      "100%|████████████████████████████████████████████████████████████████████████████████████| 3/3 [00:01<00:00,  2.95it/s]\n"
     ]
    },
    {
     "name": "stdout",
     "output_type": "stream",
     "text": [
      "701920.wav\n"
     ]
    },
    {
     "name": "stderr",
     "output_type": "stream",
     "text": [
      "100%|████████████████████████████████████████████████████████████████████████████████████| 2/2 [00:00<00:00,  3.04it/s]\n"
     ]
    },
    {
     "name": "stdout",
     "output_type": "stream",
     "text": [
      "702427.wav\n"
     ]
    },
    {
     "name": "stderr",
     "output_type": "stream",
     "text": [
      "100%|████████████████████████████████████████████████████████████████████████████████████| 3/3 [00:01<00:00,  2.88it/s]\n"
     ]
    },
    {
     "name": "stdout",
     "output_type": "stream",
     "text": [
      "704315.wav\n",
      "704316.wav\n",
      "709534.wav\n"
     ]
    },
    {
     "name": "stderr",
     "output_type": "stream",
     "text": [
      "100%|████████████████████████████████████████████████████████████████████████████████████| 3/3 [00:01<00:00,  2.82it/s]\n"
     ]
    },
    {
     "name": "stdout",
     "output_type": "stream",
     "text": [
      "709542.wav\n"
     ]
    },
    {
     "name": "stderr",
     "output_type": "stream",
     "text": [
      "100%|████████████████████████████████████████████████████████████████████████████████████| 4/4 [00:01<00:00,  2.96it/s]\n"
     ]
    },
    {
     "name": "stdout",
     "output_type": "stream",
     "text": [
      "709543.wav\n"
     ]
    },
    {
     "name": "stderr",
     "output_type": "stream",
     "text": [
      "100%|████████████████████████████████████████████████████████████████████████████████████| 5/5 [00:01<00:00,  2.88it/s]\n"
     ]
    },
    {
     "name": "stdout",
     "output_type": "stream",
     "text": [
      "710251.wav\n",
      "710648.wav\n"
     ]
    },
    {
     "name": "stderr",
     "output_type": "stream",
     "text": [
      "100%|████████████████████████████████████████████████████████████████████████████████████| 2/2 [00:00<00:00,  3.05it/s]\n"
     ]
    },
    {
     "name": "stdout",
     "output_type": "stream",
     "text": [
      "710681.wav\n"
     ]
    },
    {
     "name": "stderr",
     "output_type": "stream",
     "text": [
      "100%|████████████████████████████████████████████████████████████████████████████████████| 3/3 [00:00<00:00,  3.05it/s]\n"
     ]
    },
    {
     "name": "stdout",
     "output_type": "stream",
     "text": [
      "710683.wav\n"
     ]
    },
    {
     "name": "stderr",
     "output_type": "stream",
     "text": [
      "100%|████████████████████████████████████████████████████████████████████████████████████| 3/3 [00:00<00:00,  3.01it/s]\n"
     ]
    },
    {
     "name": "stdout",
     "output_type": "stream",
     "text": [
      "710684.wav\n"
     ]
    },
    {
     "name": "stderr",
     "output_type": "stream",
     "text": [
      "100%|████████████████████████████████████████████████████████████████████████████████████| 2/2 [00:00<00:00,  3.09it/s]\n"
     ]
    },
    {
     "name": "stdout",
     "output_type": "stream",
     "text": [
      "710686.wav\n"
     ]
    },
    {
     "name": "stderr",
     "output_type": "stream",
     "text": [
      "100%|████████████████████████████████████████████████████████████████████████████████████| 2/2 [00:00<00:00,  2.86it/s]\n"
     ]
    },
    {
     "name": "stdout",
     "output_type": "stream",
     "text": [
      "710693.wav\n"
     ]
    },
    {
     "name": "stderr",
     "output_type": "stream",
     "text": [
      "100%|████████████████████████████████████████████████████████████████████████████████████| 7/7 [00:02<00:00,  2.89it/s]\n"
     ]
    },
    {
     "name": "stdout",
     "output_type": "stream",
     "text": [
      "710702.wav\n"
     ]
    },
    {
     "name": "stderr",
     "output_type": "stream",
     "text": [
      "100%|██████████████████████████████████████████████████████████████████████████████████| 13/13 [00:04<00:00,  2.95it/s]\n"
     ]
    },
    {
     "name": "stdout",
     "output_type": "stream",
     "text": [
      "712426.wav\n"
     ]
    },
    {
     "name": "stderr",
     "output_type": "stream",
     "text": [
      "100%|████████████████████████████████████████████████████████████████████████████████████| 3/3 [00:01<00:00,  2.83it/s]\n"
     ]
    },
    {
     "name": "stdout",
     "output_type": "stream",
     "text": [
      "713874.wav\n"
     ]
    },
    {
     "name": "stderr",
     "output_type": "stream",
     "text": [
      "100%|████████████████████████████████████████████████████████████████████████████████████| 3/3 [00:01<00:00,  2.98it/s]\n"
     ]
    },
    {
     "name": "stdout",
     "output_type": "stream",
     "text": [
      "713909.wav\n"
     ]
    },
    {
     "name": "stderr",
     "output_type": "stream",
     "text": [
      "100%|████████████████████████████████████████████████████████████████████████████████████| 2/2 [00:00<00:00,  3.18it/s]\n"
     ]
    },
    {
     "name": "stdout",
     "output_type": "stream",
     "text": [
      "713917.wav\n"
     ]
    },
    {
     "name": "stderr",
     "output_type": "stream",
     "text": [
      "100%|████████████████████████████████████████████████████████████████████████████████████| 2/2 [00:00<00:00,  2.82it/s]\n"
     ]
    },
    {
     "name": "stdout",
     "output_type": "stream",
     "text": [
      "715544.wav\n"
     ]
    },
    {
     "name": "stderr",
     "output_type": "stream",
     "text": [
      "100%|████████████████████████████████████████████████████████████████████████████████████| 2/2 [00:00<00:00,  2.76it/s]\n"
     ]
    },
    {
     "name": "stdout",
     "output_type": "stream",
     "text": [
      "715872.wav\n",
      "716156.wav\n"
     ]
    },
    {
     "name": "stderr",
     "output_type": "stream",
     "text": [
      "100%|██████████████████████████████████████████████████████████████████████████████████| 10/10 [00:03<00:00,  2.86it/s]\n"
     ]
    },
    {
     "name": "stdout",
     "output_type": "stream",
     "text": [
      "717520.wav\n"
     ]
    },
    {
     "name": "stderr",
     "output_type": "stream",
     "text": [
      "100%|████████████████████████████████████████████████████████████████████████████████████| 4/4 [00:01<00:00,  2.85it/s]\n"
     ]
    },
    {
     "name": "stdout",
     "output_type": "stream",
     "text": [
      "720858.wav\n"
     ]
    },
    {
     "name": "stderr",
     "output_type": "stream",
     "text": [
      "100%|████████████████████████████████████████████████████████████████████████████████████| 2/2 [00:00<00:00,  3.02it/s]\n"
     ]
    },
    {
     "name": "stdout",
     "output_type": "stream",
     "text": [
      "720869.wav\n"
     ]
    },
    {
     "name": "stderr",
     "output_type": "stream",
     "text": [
      "100%|████████████████████████████████████████████████████████████████████████████████████| 3/3 [00:00<00:00,  3.01it/s]\n"
     ]
    },
    {
     "name": "stdout",
     "output_type": "stream",
     "text": [
      "720872.wav\n"
     ]
    },
    {
     "name": "stderr",
     "output_type": "stream",
     "text": [
      "100%|████████████████████████████████████████████████████████████████████████████████████| 4/4 [00:01<00:00,  2.95it/s]\n"
     ]
    },
    {
     "name": "stdout",
     "output_type": "stream",
     "text": [
      "721995.wav\n"
     ]
    },
    {
     "name": "stderr",
     "output_type": "stream",
     "text": [
      "100%|████████████████████████████████████████████████████████████████████████████████████| 5/5 [00:01<00:00,  2.91it/s]\n"
     ]
    },
    {
     "name": "stdout",
     "output_type": "stream",
     "text": [
      "721996.wav\n"
     ]
    },
    {
     "name": "stderr",
     "output_type": "stream",
     "text": [
      "100%|████████████████████████████████████████████████████████████████████████████████████| 5/5 [00:01<00:00,  2.78it/s]\n"
     ]
    },
    {
     "name": "stdout",
     "output_type": "stream",
     "text": [
      "AV10896_Dicaeum+australe_PH_1_0-65_U.wav\n"
     ]
    },
    {
     "name": "stderr",
     "output_type": "stream",
     "text": [
      "100%|████████████████████████████████████████████████████████████████████████████████████| 3/3 [00:01<00:00,  2.69it/s]\n"
     ]
    },
    {
     "name": "stdout",
     "output_type": "stream",
     "text": [
      "AV10910_Dicaeum+australe+australe_PH_1_0-13_S.wav\n",
      "AV10911_Dicaeum+australe+australe_PH_1_0-43_S.wav\n"
     ]
    },
    {
     "name": "stderr",
     "output_type": "stream",
     "text": [
      "100%|████████████████████████████████████████████████████████████████████████████████████| 2/2 [00:00<00:00,  2.86it/s]\n"
     ]
    },
    {
     "name": "stdout",
     "output_type": "stream",
     "text": [
      "AV15924_Dicaeum+australe_PH_1_1-14_SC.wav\n",
      "AV15970_Dicaeum+australe_PH_1_7-223_SC.wav\n"
     ]
    },
    {
     "name": "stderr",
     "output_type": "stream",
     "text": [
      "100%|████████████████████████████████████████████████████████████████████████████████████| 8/8 [00:03<00:00,  2.66it/s]\n"
     ]
    },
    {
     "name": "stdout",
     "output_type": "stream",
     "text": [
      "AV16089_Dicaeum+australe_PH_1_41-51_C.wav\n",
      "AV16163_Dicaeum+australe_PH_1_838-837_SC.wav\n",
      "AV2008_Dicaeum+australe_PH_1_249-320_C.wav\n"
     ]
    },
    {
     "name": "stderr",
     "output_type": "stream",
     "text": [
      "100%|████████████████████████████████████████████████████████████████████████████████████| 3/3 [00:01<00:00,  2.96it/s]\n"
     ]
    },
    {
     "name": "stdout",
     "output_type": "stream",
     "text": [
      "AV2009_Dicaeum+australe_PH_1_20-50_C.wav\n"
     ]
    },
    {
     "name": "stderr",
     "output_type": "stream",
     "text": [
      "100%|████████████████████████████████████████████████████████████████████████████████████| 2/2 [00:00<00:00,  2.94it/s]\n"
     ]
    },
    {
     "name": "stdout",
     "output_type": "stream",
     "text": [
      "AV2010_Dicaeum+australe_PH_1_2-6_C.wav\n",
      "AV8082_Dicaeum+australe_PH_1_2-36_SC.wav\n"
     ]
    },
    {
     "name": "stderr",
     "output_type": "stream",
     "text": [
      "100%|████████████████████████████████████████████████████████████████████████████████████| 2/2 [00:00<00:00,  2.94it/s]\n"
     ]
    }
   ],
   "source": [
    "species_index = 0\n",
    "sr = 22050\n",
    "SR = 22050\n",
    "\n",
    "\n",
    "for root,_,files in os.walk(wavfiles_path):\n",
    "    if root != wavfiles_path:\n",
    "        for file in files:\n",
    "            first,ext = os.path.splitext(file)\n",
    "            if ext == \".wav\":\n",
    "                print(file)\n",
    "                os.chdir(root)\n",
    "                audio, _ = lb.load(file, sr=sr)\n",
    "                # audio = nr.reduce_noise(y=audio, sr=sr)\n",
    "                # birdfreq, bound = birdfrequency(species_index)\n",
    "                # birdfreq = 1095.719181838233\n",
    "                # bound = birdfreq * 0.25\n",
    "                # audio = butter_bandpass_filter(audio, 1000, 11000, sr)\n",
    "\n",
    "                filename = f\"{first}_nr.wav\"\n",
    "                os.chdir(os.path.join(nr_audios_path, species[species_index]))\n",
    "                sf.write(filename, audio, sr, format=\"wav\")\n",
    "            \n",
    "        species_index += 1"
   ]
  },
  {
   "cell_type": "code",
   "execution_count": 46,
   "id": "18994806-e584-46c4-a957-c5f87a0edc4b",
   "metadata": {},
   "outputs": [],
   "source": [
    "# Noise Reduced wavfiles\n",
    "nr_path = \"D:\\\\Aj\\\\BirdClassification\\\\NEW DATASET\\\\audio dataset\\\\original\"\n",
    "\n",
    "# Noise injected path\n",
    "noise_path = \"D:\\\\Aj\\\\BirdClassification\\\\NEW DATASET\\\\NEW AUDIOS\""
   ]
  },
  {
   "cell_type": "code",
   "execution_count": 47,
   "id": "eea42f37-95e7-4727-9bce-0b550f6eeb7b",
   "metadata": {},
   "outputs": [],
   "source": [
    "if not os.path.exists(noise_path):\n",
    "    os.mkdir(noise_path)\n",
    "    \n",
    "for folder in species:\n",
    "    species_folder = os.path.join(noise_path, folder)\n",
    "    if not os.path.exists(species_folder):\n",
    "        os.mkdir(species_folder)"
   ]
  },
  {
   "cell_type": "code",
   "execution_count": 48,
   "id": "1e18f0f0-1cb5-489a-9c83-c97a54b91831",
   "metadata": {},
   "outputs": [],
   "source": [
    "def add_white_noise(file, noise_factor):\n",
    "    signal, _ = lb.load(file)\n",
    "    noise = np.random.normal(0, signal.std(), signal.size)\n",
    "    augmented_signal = signal + noise * noise_factor \n",
    "    return augmented_signal"
   ]
  },
  {
   "cell_type": "code",
   "execution_count": 49,
   "id": "2d0b0552-68b2-429a-92a7-38b3074d69fd",
   "metadata": {},
   "outputs": [
    {
     "name": "stdout",
     "output_type": "stream",
     "text": [
      "AsianGlossyStarling\n",
      "135410.wav\n",
      "150616.wav\n",
      "150784.wav\n",
      "151015.wav\n",
      "151125.wav\n",
      "203630.wav\n",
      "297713.wav\n",
      "307393.wav\n",
      "359561.wav\n",
      "369053.wav\n",
      "369054.wav\n",
      "398686.wav\n",
      "401716.wav\n",
      "424589.wav\n",
      "442860.wav\n",
      "442861.wav\n",
      "442862.wav\n",
      "442863.wav\n",
      "446174.wav\n",
      "461216.wav\n",
      "497072.wav\n",
      "525873.wav\n",
      "528889.wav\n",
      "529066.wav\n",
      "578355.wav\n",
      "593991.wav\n",
      "622285.wav\n",
      "656218.wav\n",
      "67615.wav\n",
      "79320.wav\n",
      "98514.wav\n",
      "98515.wav\n",
      "Black-crownedNightHeron\n",
      "110872.wav\n",
      "257328.wav\n",
      "257329.wav\n",
      "257330.wav\n",
      "263289.wav\n",
      "280512.wav\n",
      "304259.wav\n",
      "319076.wav\n",
      "365511.wav\n",
      "376571.wav\n",
      "441587.wav\n",
      "449100.wav\n",
      "464577.wav\n",
      "464824.wav\n",
      "466177.wav\n",
      "509469.wav\n",
      "528094.wav\n",
      "548760.wav\n",
      "549290.wav\n",
      "551281.wav\n",
      "557328.wav\n",
      "558100.wav\n",
      "579688.wav\n",
      "580668.wav\n",
      "588333.wav\n",
      "588337.wav\n",
      "588338.wav\n",
      "597256.wav\n",
      "656877.wav\n",
      "656878.wav\n",
      "658124.wav\n",
      "661217.wav\n",
      "670576.wav\n",
      "672539.wav\n",
      "673963.wav\n",
      "675411.wav\n",
      "675694.wav\n",
      "676277.wav\n",
      "676688.wav\n",
      "680952.wav\n",
      "684781.wav\n",
      "705780.wav\n",
      "709199.wav\n",
      "709867.wav\n",
      "711341.wav\n",
      "713290.wav\n",
      "714053.wav\n",
      "715318.wav\n",
      "720203.wav\n",
      "720749.wav\n",
      "Black-napedOriole\n",
      "AV10952_Oriolus+chinensis+chinensis_PH_1_0-15_S.wav\n",
      "AV10953_Oriolus+chinensis+yamamurae_PH_1_0-81_S.wav\n",
      "AV13091_Oriolus+chinensis_ID_2_51-110_S.wav\n",
      "AV13120_Oriolus+chinensis_ID_1_1-41_C.wav\n",
      "AV17214_Oriolus+chinensis_CP_1_0-14_S.wav\n",
      "AV19575_Oriolus+chinensis_ID_1_3-8_S.wav\n",
      "AV19588_Oriolus+chinensis_ID_1_3-8_S.wav\n",
      "AV2177_Oriolus+chinensis_PH_1_20-31_C.wav\n",
      "AV2178_Oriolus+chinensis_PH_1_0-60_C.wav\n",
      "AV2179_Oriolus+chinensis_PH_1_3-28_C.wav\n",
      "AV2180_Oriolus+chinensis_PH_1_88-127_S.wav\n",
      "AV2181_Oriolus+chinensis_PH_1_4-26_S.wav\n",
      "AV2182_Oriolus+chinensis_PH_1_17-57_C.wav\n",
      "AV2183_Oriolus+chinensis_PH_1_25-66_C.wav\n",
      "AV3382_Oriolus+chinensis+frontalis_ID_1_0-81_S.wav\n",
      "AV3383_Oriolus+chinensis+frontalis_ID_1_0-27_C.wav\n",
      "AV3384_Oriolus+chinensis+frontalis_MY_1_9-77_S.wav\n",
      "AV499_Oriolus+chinensis_ID_1_1.3-19.2_C.wav\n",
      "AV505_Oriolus+chinensis_ID_1_4-56.5_C.wav\n",
      "AV511_Oriolus+chinensis_ID_1_27.3-32.3_C.wav\n",
      "AV5355_Oriolus+chinensis_ID_1_121-198_C.wav\n",
      "AV5356_Oriolus+chinensis_ID_1_593-628_S.wav\n",
      "AV5357_Oriolus+chinensis_ID_1_1254-1326_S.wav\n",
      "AV5358_Oriolus+chinensis_ID_1_537-603_S.wav\n",
      "AV5359_Oriolus+chinensis_ID_1_1329-1347_S.wav\n",
      "AV5360_Oriolus+chinensis_ID_1_1347-1472_S.wav\n",
      "AV5361_Oriolus+chinensis_ID_1_31-103_S.wav\n",
      "AV5928_Oriolus+chinensis_BD_1_0-28_C.wav\n",
      "AV6686_Oriolus+chinensis+_LK_1_0-52_C.wav\n",
      "AV8379_Oriolus+chinensis_PH_1_0-72_S.wav\n",
      "Blue-tailedBee-eater\n",
      "126308.wav\n",
      "143836.wav\n",
      "19601.wav\n",
      "197250.wav\n",
      "205051.wav\n",
      "239914.wav\n",
      "295155.wav\n",
      "311374.wav\n",
      "311375.wav\n",
      "311376.wav\n",
      "311377.wav\n",
      "336408.wav\n",
      "394050.wav\n",
      "400298.wav\n",
      "40053.wav\n",
      "430259.wav\n",
      "444462.wav\n",
      "453340.wav\n",
      "460790.wav\n",
      "472801.wav\n",
      "472802.wav\n",
      "503736.wav\n",
      "513403.wav\n",
      "581420.wav\n",
      "59690.wav\n",
      "615218.wav\n",
      "621238.wav\n",
      "627981.wav\n",
      "681276.wav\n",
      "683300.wav\n",
      "684822.wav\n",
      "68708.wav\n",
      "702038.wav\n",
      "90837.wav\n",
      "BrownShrike\n",
      "104857.wav\n",
      "111511.wav\n",
      "113504.wav\n",
      "149565.wav\n",
      "161637.wav\n",
      "162992.wav\n",
      "175339.wav\n",
      "184829.wav\n",
      "187013.wav\n",
      "19396.wav\n",
      "210840.wav\n",
      "21530.wav\n",
      "267581.wav\n",
      "267582.wav\n",
      "293538.wav\n",
      "29384.wav\n",
      "329964.wav\n",
      "330917.wav\n",
      "341301.wav\n",
      "341303.wav\n",
      "369283.wav\n",
      "369284.wav\n",
      "387695.wav\n",
      "396499.wav\n",
      "397771.wav\n",
      "410420.wav\n",
      "442641.wav\n",
      "455996.wav\n",
      "458248.wav\n",
      "465711.wav\n",
      "468347.wav\n",
      "468348.wav\n",
      "468349.wav\n",
      "484133.wav\n",
      "504030.wav\n",
      "546353.wav\n",
      "546639.wav\n",
      "591613.wav\n",
      "591614.wav\n",
      "596970.wav\n",
      "598451.wav\n",
      "601410.wav\n",
      "62712.wav\n",
      "65783.wav\n",
      "679573.wav\n",
      "679574.wav\n",
      "681928.wav\n",
      "684081.wav\n",
      "692458.wav\n",
      "88074.wav\n",
      "ChestnutMunia\n",
      "110292.wav\n",
      "150687.wav\n",
      "150688.wav\n",
      "150792.wav\n",
      "151329.wav\n",
      "182657.wav\n",
      "19628.wav\n",
      "207444.wav\n",
      "207445.wav\n",
      "269982.wav\n",
      "291716.wav\n",
      "542006.wav\n",
      "610581.wav\n",
      "622956.wav\n",
      "637243.wav\n",
      "68576.wav\n",
      "68577.wav\n",
      "730852.wav\n",
      "730853.wav\n",
      "730871.wav\n",
      "743408.wav\n",
      "79156.wav\n",
      "89389.wav\n",
      "CollaredKingfisher\n",
      "121823.wav\n",
      "121824.wav\n",
      "150689.wav\n",
      "151130.wav\n",
      "151131.wav\n",
      "151134.wav\n",
      "151135.wav\n",
      "151136.wav\n",
      "151642.wav\n",
      "151815.wav\n",
      "152005.wav\n",
      "152203.wav\n",
      "152653.wav\n",
      "164689.wav\n",
      "164692.wav\n",
      "164693.wav\n",
      "166851.wav\n",
      "177320.wav\n",
      "177321.wav\n",
      "179372.wav\n",
      "179374.wav\n",
      "181238.wav\n",
      "181242.wav\n",
      "186559.wav\n",
      "192023.wav\n",
      "192024.wav\n",
      "192025.wav\n",
      "192026.wav\n",
      "19639.wav\n",
      "197619.wav\n",
      "198433.wav\n",
      "204535.wav\n",
      "204898.wav\n",
      "205073.wav\n",
      "205148.wav\n",
      "205792.wav\n",
      "217355.wav\n",
      "264245.wav\n",
      "266476.wav\n",
      "269423.wav\n",
      "269435.wav\n",
      "269988.wav\n",
      "286713.wav\n",
      "290553.wav\n",
      "290554.wav\n",
      "290555.wav\n",
      "291729.wav\n",
      "293219.wav\n",
      "295158.wav\n",
      "324473.wav\n",
      "324474.wav\n",
      "327431.wav\n",
      "338730.wav\n",
      "345176.wav\n",
      "349240.wav\n",
      "356241.wav\n",
      "369567.wav\n",
      "36965.wav\n",
      "376315.wav\n",
      "376316.wav\n",
      "39156.wav\n",
      "40034.wav\n",
      "402013.wav\n",
      "403728.wav\n",
      "413677.wav\n",
      "42618.wav\n",
      "476095.wav\n",
      "477125.wav\n",
      "479214.wav\n",
      "481276.wav\n",
      "501968.wav\n",
      "575557.wav\n",
      "575558.wav\n",
      "575559.wav\n",
      "575560.wav\n",
      "575561.wav\n",
      "598139.wav\n",
      "606859.wav\n",
      "618710.wav\n",
      "619809.wav\n",
      "621225.wav\n",
      "621232.wav\n",
      "626784.wav\n",
      "631904.wav\n",
      "631908.wav\n",
      "647048.wav\n",
      "684248.wav\n",
      "684609.wav\n",
      "715531.wav\n",
      "720552.wav\n",
      "79314.wav\n",
      "86946.wav\n",
      "86947.wav\n",
      "89927.wav\n",
      "EurasianTreeSparrow\n",
      "640741.wav\n",
      "645625.wav\n",
      "647020.wav\n",
      "651246.wav\n",
      "651334.wav\n",
      "652220.wav\n",
      "654313.wav\n",
      "655734.wav\n",
      "656074.wav\n",
      "656075.wav\n",
      "656076.wav\n",
      "656077.wav\n",
      "656079.wav\n",
      "656081.wav\n",
      "656083.wav\n",
      "656909.wav\n",
      "656912.wav\n",
      "657799.wav\n",
      "658099.wav\n",
      "658100.wav\n",
      "659575.wav\n",
      "659801.wav\n",
      "660618.wav\n",
      "664001.wav\n",
      "665123.wav\n",
      "665124.wav\n",
      "665130.wav\n",
      "665132.wav\n",
      "666514.wav\n",
      "666859.wav\n",
      "668118.wav\n",
      "668119.wav\n",
      "668120.wav\n",
      "669471.wav\n",
      "669473.wav\n",
      "669474.wav\n",
      "669475.wav\n",
      "669794.wav\n",
      "670876.wav\n",
      "670877.wav\n",
      "674826.wav\n",
      "679146.wav\n",
      "679234.wav\n",
      "679322.wav\n",
      "679355.wav\n",
      "679436.wav\n",
      "679503.wav\n",
      "679530.wav\n",
      "679531.wav\n",
      "679885.wav\n",
      "680158.wav\n",
      "680993.wav\n",
      "682268.wav\n",
      "683216.wav\n",
      "685096.wav\n",
      "685161.wav\n",
      "685881.wav\n",
      "685885.wav\n",
      "687310.wav\n",
      "687470.wav\n",
      "687471.wav\n",
      "690645.wav\n",
      "696161.wav\n",
      "696756.wav\n",
      "696880.wav\n",
      "697507.wav\n",
      "697536.wav\n",
      "697571.wav\n",
      "699014.wav\n",
      "699131.wav\n",
      "699133.wav\n",
      "699886.wav\n",
      "700315.wav\n",
      "700317.wav\n",
      "700325.wav\n",
      "700412.wav\n",
      "701920.wav\n",
      "702427.wav\n",
      "703086.wav\n",
      "704315.wav\n",
      "704316.wav\n",
      "706372.wav\n",
      "707550.wav\n",
      "709248.wav\n",
      "709534.wav\n",
      "709535.wav\n",
      "709540.wav\n",
      "709542.wav\n",
      "709543.wav\n",
      "710251.wav\n",
      "710648.wav\n",
      "710681.wav\n",
      "710682.wav\n",
      "710683.wav\n",
      "710684.wav\n",
      "710686.wav\n",
      "710693.wav\n",
      "710702.wav\n",
      "712426.wav\n",
      "713874.wav\n",
      "713909.wav\n",
      "713917.wav\n",
      "715544.wav\n",
      "715872.wav\n",
      "716066.wav\n",
      "716156.wav\n",
      "717229.wav\n",
      "717520.wav\n",
      "720858.wav\n",
      "720868.wav\n",
      "720869.wav\n",
      "720872.wav\n",
      "721169.wav\n",
      "721995.wav\n",
      "721996.wav\n",
      "Grey-backedTailorbird\n",
      "190218.wav\n",
      "269314.wav\n",
      "269316.wav\n",
      "269317.wav\n",
      "269974.wav\n",
      "269975.wav\n",
      "269976.wav\n",
      "269977.wav\n",
      "270582.wav\n",
      "270583.wav\n",
      "305462.wav\n",
      "30705.wav\n",
      "34679.wav\n",
      "377047.wav\n",
      "379134.wav\n",
      "39653.wav\n",
      "39654.wav\n",
      "39655.wav\n",
      "403731.wav\n",
      "403732.wav\n",
      "442778.wav\n",
      "483285.wav\n",
      "53862.wav\n",
      "563672.wav\n",
      "611589.wav\n",
      "643709.wav\n",
      "643710.wav\n",
      "643711.wav\n",
      "GreyWagtail\n",
      "145210.wav\n",
      "19699.wav\n",
      "314249.wav\n",
      "375254.wav\n",
      "401569.wav\n",
      "437040.wav\n",
      "453323.wav\n",
      "470708.wav\n",
      "470711.wav\n",
      "481471.wav\n",
      "499079.wav\n",
      "502780.wav\n",
      "506714.wav\n",
      "507311.wav\n",
      "520473.wav\n",
      "521881.wav\n",
      "527043.wav\n",
      "561775.wav\n",
      "576651.wav\n",
      "594895.wav\n",
      "601467.wav\n",
      "607258.wav\n",
      "608016.wav\n",
      "608325.wav\n",
      "616590.wav\n",
      "618175.wav\n",
      "633116.wav\n",
      "633117.wav\n",
      "633118.wav\n",
      "633119.wav\n",
      "633120.wav\n",
      "636678.wav\n",
      "655063.wav\n",
      "655276.wav\n",
      "656050.wav\n",
      "661261.wav\n",
      "662526.wav\n",
      "663456.wav\n",
      "663472.wav\n",
      "664945.wav\n",
      "666826.wav\n",
      "667585.wav\n",
      "680269.wav\n",
      "680564.wav\n",
      "682324.wav\n",
      "687559.wav\n",
      "690679.wav\n",
      "692795.wav\n",
      "694589.wav\n",
      "695870.wav\n",
      "696159.wav\n",
      "697734.wav\n",
      "698184.wav\n",
      "707276.wav\n",
      "709940.wav\n",
      "711977.wav\n",
      "712311.wav\n",
      "713036.wav\n",
      "97431.wav\n",
      "97436.wav\n",
      "97437.wav\n",
      "MangroveBlueFlycatcher\n",
      "142365.wav\n",
      "151315.wav\n",
      "151316.wav\n",
      "151317.wav\n",
      "179402.wav\n",
      "181239.wav\n",
      "181240.wav\n",
      "181241.wav\n",
      "192167.wav\n",
      "192169.wav\n",
      "19311.wav\n",
      "234256.wav\n",
      "29984.wav\n",
      "29985.wav\n",
      "321478.wav\n",
      "35714.wav\n",
      "394650.wav\n",
      "402885.wav\n",
      "447968.wav\n",
      "499983.wav\n",
      "499984.wav\n",
      "499986.wav\n",
      "53976.wav\n",
      "584006.wav\n",
      "58828.wav\n",
      "58829.wav\n",
      "58830.wav\n",
      "609511.wav\n",
      "622314.wav\n",
      "622315.wav\n",
      "622316.wav\n",
      "622318.wav\n",
      "622320.wav\n",
      "654820.wav\n",
      "689778.wav\n",
      "710705.wav\n",
      "710706.wav\n",
      "79306.wav\n",
      "Olive-backedSunbird\n",
      "141974.wav\n",
      "151845.wav\n",
      "152034.wav\n",
      "165416.wav\n",
      "166758.wav\n",
      "186645.wav\n",
      "194527.wav\n",
      "203463.wav\n",
      "203465.wav\n",
      "203466.wav\n",
      "204551.wav\n",
      "204552.wav\n",
      "207964.wav\n",
      "216356.wav\n",
      "23823.wav\n",
      "241963.wav\n",
      "269430.wav\n",
      "269432.wav\n",
      "276622.wav\n",
      "290929.wav\n",
      "306136.wav\n",
      "318689.wav\n",
      "318691.wav\n",
      "332814.wav\n",
      "345839.wav\n",
      "350556.wav\n",
      "35836.wav\n",
      "359634.wav\n",
      "359636.wav\n",
      "359639.wav\n",
      "359641.wav\n",
      "359642.wav\n",
      "369091.wav\n",
      "383774.wav\n",
      "386215.wav\n",
      "40038.wav\n",
      "402336.wav\n",
      "404064.wav\n",
      "404148.wav\n",
      "436566.wav\n",
      "436567.wav\n",
      "438464.wav\n",
      "439489.wav\n",
      "439622.wav\n",
      "446161.wav\n",
      "453747.wav\n",
      "455228.wav\n",
      "481176.wav\n",
      "481177.wav\n",
      "498029.wav\n",
      "533676.wav\n",
      "533678.wav\n",
      "533679.wav\n",
      "541996.wav\n",
      "565731.wav\n",
      "566252.wav\n",
      "578924.wav\n",
      "580883.wav\n",
      "606952.wav\n",
      "607937.wav\n",
      "609004.wav\n",
      "616396.wav\n",
      "622295.wav\n",
      "628969.wav\n",
      "653645.wav\n",
      "653646.wav\n",
      "663590.wav\n",
      "683634.wav\n",
      "68830.wav\n",
      "68831.wav\n",
      "68832.wav\n",
      "702178.wav\n",
      "715624.wav\n",
      "88187.wav\n",
      "89654.wav\n",
      "94222.wav\n",
      "94223.wav\n",
      "94224.wav\n",
      "94226.wav\n",
      "PhilippineMagpie-Robin\n",
      "176801.wav\n",
      "181244.wav\n",
      "234265.wav\n",
      "268922.wav\n",
      "268923.wav\n",
      "347815.wav\n",
      "347816.wav\n",
      "375097.wav\n",
      "403730.wav\n",
      "432806.wav\n",
      "447244.wav\n",
      "563670.wav\n",
      "PhilippinePiedFantail\n",
      "174201.wav\n",
      "186036.wav\n",
      "200892.wav\n",
      "342492.wav\n",
      "345178.wav\n",
      "345179.wav\n",
      "345219.wav\n",
      "347808.wav\n",
      "347810.wav\n",
      "349244.wav\n",
      "411575.wav\n",
      "501966.wav\n",
      "622996.wav\n",
      "623006.wav\n",
      "623007.wav\n",
      "69400.wav\n",
      "69401.wav\n",
      "69402.wav\n",
      "69403.wav\n",
      "709670.wav\n",
      "79312.wav\n",
      "PiedBushChat\n",
      "103827.wav\n",
      "103828.wav\n",
      "109484.wav\n",
      "110815.wav\n",
      "116719.wav\n",
      "122395.wav\n",
      "138362.wav\n",
      "142724.wav\n",
      "143253.wav\n",
      "143254.wav\n",
      "157149.wav\n",
      "161424.wav\n",
      "161425.wav\n",
      "177160.wav\n",
      "185033.wav\n",
      "185034.wav\n",
      "187272.wav\n",
      "19404.wav\n",
      "19802.wav\n",
      "204610.wav\n",
      "204615.wav\n",
      "204654.wav\n",
      "240347.wav\n",
      "240348.wav\n",
      "24586.wav\n",
      "295428.wav\n",
      "311491.wav\n",
      "311738.wav\n",
      "319970.wav\n",
      "369540.wav\n",
      "385680.wav\n",
      "389524.wav\n",
      "404479.wav\n",
      "406641.wav\n",
      "406655.wav\n",
      "44828.wav\n",
      "460228.wav\n",
      "460236.wav\n",
      "460632.wav\n",
      "471613.wav\n",
      "473866.wav\n",
      "544038.wav\n",
      "547899.wav\n",
      "550719.wav\n",
      "630261.wav\n",
      "642817.wav\n",
      "700955.wav\n",
      "88898.wav\n",
      "99921.wav\n",
      "Red-keeledFlowerpecker\n",
      "239310.wav\n",
      "239327.wav\n",
      "320920.wav\n",
      "35262.wav\n",
      "446287.wav\n",
      "590748.wav\n",
      "622321.wav\n",
      "622322.wav\n",
      "622339.wav\n",
      "622340.wav\n",
      "657390.wav\n",
      "657391.wav\n",
      "657392.wav\n",
      "657393.wav\n",
      "657394.wav\n",
      "657395.wav\n",
      "657396.wav\n",
      "68134.wav\n",
      "68135.wav\n",
      "68136.wav\n",
      "AV10896_Dicaeum+australe_PH_1_0-65_U.wav\n",
      "AV10910_Dicaeum+australe+australe_PH_1_0-13_S.wav\n",
      "AV10911_Dicaeum+australe+australe_PH_1_0-43_S.wav\n",
      "AV15924_Dicaeum+australe_PH_1_1-14_SC.wav\n",
      "AV15970_Dicaeum+australe_PH_1_7-223_SC.wav\n",
      "AV16089_Dicaeum+australe_PH_1_41-51_C.wav\n",
      "AV16163_Dicaeum+australe_PH_1_838-837_SC.wav\n",
      "AV2008_Dicaeum+australe_PH_1_249-320_C.wav\n",
      "AV2009_Dicaeum+australe_PH_1_20-50_C.wav\n",
      "AV2010_Dicaeum+australe_PH_1_2-6_C.wav\n",
      "AV8082_Dicaeum+australe_PH_1_2-36_SC.wav\n",
      "White-breastedWaterhen\n",
      "102912.wav\n",
      "105148.wav\n",
      "147285.wav\n",
      "151342.wav\n",
      "156229.wav\n",
      "161476.wav\n",
      "188426.wav\n",
      "198538.wav\n",
      "207874.wav\n",
      "210170.wav\n",
      "266604.wav\n",
      "284524.wav\n",
      "286005.wav\n",
      "286016.wav\n",
      "286053.wav\n",
      "311142.wav\n",
      "318467.wav\n",
      "318468.wav\n",
      "318819.wav\n",
      "346154.wav\n",
      "359540.wav\n",
      "359541.wav\n",
      "362694.wav\n",
      "365725.wav\n",
      "396583.wav\n",
      "414019.wav\n",
      "430562.wav\n",
      "435909.wav\n",
      "438346.wav\n",
      "439487.wav\n",
      "442850.wav\n",
      "442851.wav\n",
      "447294.wav\n",
      "467684.wav\n",
      "472569.wav\n",
      "472571.wav\n",
      "498369.wav\n",
      "498370.wav\n",
      "541285.wav\n",
      "548744.wav\n",
      "583144.wav\n",
      "583630.wav\n",
      "605226.wav\n",
      "605227.wav\n",
      "610776.wav\n",
      "633083.wav\n",
      "659585.wav\n",
      "659922.wav\n",
      "707551.wav\n",
      "709128.wav\n",
      "709255.wav\n",
      "711892.wav\n",
      "712733.wav\n",
      "712737.wav\n",
      "Yellow-ventedBulbul\n",
      "150003.wav\n",
      "150685.wav\n",
      "151628.wav\n",
      "161885.wav\n",
      "167083.wav\n",
      "174840.wav\n",
      "177256.wav\n",
      "196143.wav\n",
      "204069.wav\n",
      "236319.wav\n",
      "266132.wav\n",
      "290641.wav\n",
      "290642.wav\n",
      "290643.wav\n",
      "30042.wav\n",
      "314179.wav\n",
      "342486.wav\n",
      "345157.wav\n",
      "347967.wav\n",
      "350597.wav\n",
      "360039.wav\n",
      "396952.wav\n",
      "40065.wav\n",
      "401927.wav\n",
      "41383.wav\n",
      "415477.wav\n",
      "456703.wav\n",
      "461218.wav\n",
      "477311.wav\n",
      "477488.wav\n",
      "487799.wav\n",
      "487800.wav\n",
      "498024.wav\n",
      "501957.wav\n",
      "516019.wav\n",
      "538803.wav\n",
      "541292.wav\n",
      "541293.wav\n",
      "541302.wav\n",
      "541306.wav\n",
      "578345.wav\n",
      "580882.wav\n",
      "607605.wav\n",
      "607606.wav\n",
      "607607.wav\n",
      "610177.wav\n",
      "612968.wav\n",
      "616402.wav\n",
      "617140.wav\n",
      "654542.wav\n",
      "665370.wav\n",
      "671783.wav\n",
      "72623.wav\n",
      "ZebraDove\n",
      "100269.wav\n",
      "151610.wav\n",
      "157267.wav\n",
      "175251.wav\n",
      "175520.wav\n",
      "192180.wav\n",
      "192181.wav\n",
      "199206.wav\n",
      "199207.wav\n",
      "203258.wav\n",
      "203351.wav\n",
      "203389.wav\n",
      "203391.wav\n",
      "205818.wav\n",
      "207911.wav\n",
      "207921.wav\n",
      "207922.wav\n",
      "240597.wav\n",
      "27662.wav\n",
      "290485.wav\n",
      "290486.wav\n",
      "290487.wav\n",
      "302526.wav\n",
      "303939.wav\n",
      "304320.wav\n",
      "307402.wav\n",
      "328022.wav\n",
      "342490.wav\n",
      "345584.wav\n",
      "34689.wav\n",
      "347811.wav\n",
      "347812.wav\n",
      "347813.wav\n",
      "348091.wav\n",
      "352051.wav\n",
      "360136.wav\n",
      "364380.wav\n",
      "382147.wav\n",
      "397190.wav\n",
      "40043.wav\n",
      "400874.wav\n",
      "404001.wav\n",
      "434301.wav\n",
      "434900.wav\n",
      "439488.wav\n",
      "445754.wav\n",
      "447638.wav\n",
      "461650.wav\n",
      "462874.wav\n",
      "46439.wav\n",
      "46440.wav\n",
      "522909.wav\n",
      "528907.wav\n",
      "537518.wav\n",
      "541311.wav\n",
      "559644.wav\n",
      "559916.wav\n",
      "560520.wav\n",
      "576417.wav\n",
      "578384.wav\n",
      "580215.wav\n",
      "588080.wav\n",
      "589483.wav\n",
      "589824.wav\n",
      "593996.wav\n",
      "598171.wav\n",
      "616403.wav\n",
      "618483.wav\n",
      "642415.wav\n",
      "655104.wav\n",
      "665873.wav\n",
      "685690.wav\n",
      "698322.wav\n",
      "713711.wav\n",
      "738793.wav\n",
      "748014.wav\n",
      "78420.wav\n",
      "88905.wav\n",
      "88906.wav\n",
      "94362.wav\n",
      "94363.wav\n",
      "94364.wav\n"
     ]
    }
   ],
   "source": [
    "for folder in species:\n",
    "    print(folder)\n",
    "    folderpath = os.path.join(nr_path, folder)\n",
    "    os.chdir(folderpath)\n",
    "    filenames = os.listdir()\n",
    "    for file in filenames:\n",
    "        print(file)\n",
    "        filename, _ = os.path.splitext(file)\n",
    "        audio = add_white_noise(file, 0.1)\n",
    "        new_filename = filename + '_ni.wav'\n",
    "        os.chdir(os.path.join(noise_path, folder))\n",
    "        sf.write(new_filename, audio, SR)\n",
    "        os.chdir(folderpath)"
   ]
  },
  {
   "cell_type": "markdown",
   "id": "90793dc3-317f-4cec-b944-e38e79768c97",
   "metadata": {
    "tags": []
   },
   "source": [
    "# FIND BIRD FREQUENCY"
   ]
  },
  {
   "cell_type": "code",
   "execution_count": 1,
   "id": "09fe7626-1f29-47bd-9b3b-11039a3de86d",
   "metadata": {},
   "outputs": [
    {
     "name": "stderr",
     "output_type": "stream",
     "text": [
      "C:\\Users\\gbert\\AppData\\Roaming\\Python\\Python39\\site-packages\\tqdm\\auto.py:22: TqdmWarning: IProgress not found. Please update jupyter and ipywidgets. See https://ipywidgets.readthedocs.io/en/stable/user_install.html\n",
      "  from .autonotebook import tqdm as notebook_tqdm\n"
     ]
    }
   ],
   "source": [
    "import os\n",
    "import librosa as lb\n",
    "import librosa.display\n",
    "import numpy as np\n",
    "import matplotlib.pyplot as plt\n",
    "import scipy as sp\n",
    "# import IPython.display as ipd\n",
    "import pandas as pd\n",
    "from scipy.signal import butter, lfilter\n",
    "import noisereduce as nr\n",
    "from itertools import combinations"
   ]
  },
  {
   "cell_type": "code",
   "execution_count": 2,
   "id": "2d1e6a6e-52ae-4af1-aa6d-219ace5a02cd",
   "metadata": {},
   "outputs": [],
   "source": [
    "def butter_bandpass(lowcut, highcut, fs, order=6):\n",
    "    return butter(order, [lowcut, highcut], fs=fs, btype='band')\n",
    "\n",
    "def butter_bandpass_filter(data, lowcut, highcut, fs, order=5):\n",
    "    b, a = butter_bandpass(lowcut, highcut, fs, order=order)\n",
    "    y = lfilter(b, a, data)\n",
    "    return y\n",
    "\n",
    "def find_frequency(audio):\n",
    "    w = np.fft.fft(audio)\n",
    "    freqs = np.fft.fftfreq(len(w))\n",
    "    idx = np.argmax(np.abs(w))\n",
    "    freq = freqs[idx]\n",
    "    freq_in_hertz = abs(freq * 22050)\n",
    "    return freq_in_hertz\n",
    "\n",
    "def perc_diff(x,y):\n",
    "    return np.abs(x - y) / (np.mean([x,y]))\n",
    "\n",
    "### This function is to prevent outlier frequencies becoming the reference for preprocessing\n",
    "def bird_freq_correction(audio_infos):\n",
    "    freqs = []\n",
    "    acc_freq = []\n",
    "    percent_differences = []\n",
    "    bird_freq = 0\n",
    "    \n",
    "    ### Reading the audio files of the test dataset\n",
    "    for i in audio_infos:\n",
    "        birdfreq = find_frequency(i)\n",
    "        freqs.append(birdfreq)\n",
    "    \n",
    "    ### Listing the number of combinations of each frequency\n",
    "    c = list(combinations(freqs, 2))\n",
    "    for i in c:\n",
    "        z = perc_diff(i[0], i[1])\n",
    "        percent_differences.append(z)\n",
    "    \n",
    "    ### Getting the 5 least percent differences of the combinations. These values are likely the most precise and accurate. \n",
    "    min5 = sorted(percent_differences)[:5]\n",
    "    for val in min5:\n",
    "        for idx, value in enumerate(percent_differences):\n",
    "            if val == value:\n",
    "                acc_freq.append(c[idx])\n",
    "    freq_mean = np.mean(acc_freq)\n",
    "    \n",
    "    ### Replacing outlier frequencies with the average of the 5 combinations with the least percent differences. \n",
    "    for idx, i in enumerate(freqs):\n",
    "        diff = perc_diff(freq_mean, i)\n",
    "        ### If percent difference is more than 50%, replace outlier\n",
    "        if diff > 0.5:\n",
    "            freqs[idx] = freq_mean\n",
    "    bird_freq = np.mean(freqs)\n",
    "    return bird_freq\n",
    "\n",
    "def fourier(sample):\n",
    "    ft = sp.fft.fft(sample)\n",
    "    mag = np.absolute(ft)\n",
    "    freq = np.linspace(0, sr, len(mag))\n",
    "    fig = plt.figure(figsize=(20,8))\n",
    "    plt.plot(freq, mag)\n",
    "    plt.xlabel(\"Frequency\")\n",
    "    plt.ylabel(\"Amplitude\")\n",
    "    plt.close(fig)\n",
    "    return freq, mag\n",
    "\n",
    "def threshold(freqs, i):\n",
    "    thresh = len(freqs[i]) // 2\n",
    "    return thresh"
   ]
  },
  {
   "cell_type": "code",
   "execution_count": 3,
   "id": "0ffab301-3e54-4880-b24b-aa7c0b44479d",
   "metadata": {},
   "outputs": [],
   "source": [
    "datasetpath = \"D:\\\\Aj\\\\BirdClassification\\\\NEW DATASET\\\\after NEW AUDIOS\\\\ZebraDove\"\n",
    "\n",
    "frame_size = 2048\n",
    "hop_size = 512\n",
    "sr = 22050\n",
    "lowcut = 200\n",
    "highcut = 11000"
   ]
  },
  {
   "cell_type": "code",
   "execution_count": 4,
   "id": "b036c0d6-9847-4d13-9593-b3ed4b3bd532",
   "metadata": {},
   "outputs": [],
   "source": [
    "## INITIALIZING THE LIST OF VALUES\n",
    "species_freqs = []\n",
    "species_magnitudes = []"
   ]
  },
  {
   "cell_type": "code",
   "execution_count": 6,
   "id": "92cabb05-e907-417a-a037-94af95ae1337",
   "metadata": {},
   "outputs": [
    {
     "name": "stderr",
     "output_type": "stream",
     "text": [
      "100%|████████████████████████████████████████████████████████████████████████████████████| 2/2 [00:00<00:00,  2.36it/s]\n",
      "100%|████████████████████████████████████████████████████████████████████████████████████| 4/4 [00:01<00:00,  2.52it/s]\n",
      "100%|████████████████████████████████████████████████████████████████████████████████████| 3/3 [00:01<00:00,  2.50it/s]\n",
      "100%|████████████████████████████████████████████████████████████████████████████████████| 7/7 [00:02<00:00,  2.77it/s]\n",
      "100%|████████████████████████████████████████████████████████████████████████████████████| 2/2 [00:00<00:00,  2.88it/s]\n",
      "100%|████████████████████████████████████████████████████████████████████████████████████| 3/3 [00:01<00:00,  2.77it/s]\n",
      "100%|████████████████████████████████████████████████████████████████████████████████████| 2/2 [00:00<00:00,  2.80it/s]\n",
      "100%|████████████████████████████████████████████████████████████████████████████████████| 2/2 [00:00<00:00,  2.87it/s]\n",
      "100%|████████████████████████████████████████████████████████████████████████████████████| 3/3 [00:01<00:00,  2.76it/s]\n",
      "100%|████████████████████████████████████████████████████████████████████████████████████| 3/3 [00:01<00:00,  2.83it/s]\n",
      "100%|████████████████████████████████████████████████████████████████████████████████████| 3/3 [00:01<00:00,  2.83it/s]\n",
      "100%|████████████████████████████████████████████████████████████████████████████████████| 3/3 [00:01<00:00,  2.81it/s]\n",
      "100%|████████████████████████████████████████████████████████████████████████████████████| 3/3 [00:01<00:00,  2.82it/s]\n",
      "100%|████████████████████████████████████████████████████████████████████████████████████| 2/2 [00:00<00:00,  2.78it/s]\n",
      "100%|████████████████████████████████████████████████████████████████████████████████████| 2/2 [00:00<00:00,  2.61it/s]\n",
      "100%|██████████████████████████████████████████████████████████████████████████████████| 11/11 [00:04<00:00,  2.72it/s]\n",
      "100%|████████████████████████████████████████████████████████████████████████████████████| 2/2 [00:00<00:00,  2.90it/s]\n",
      "100%|████████████████████████████████████████████████████████████████████████████████████| 5/5 [00:01<00:00,  2.89it/s]\n",
      "100%|████████████████████████████████████████████████████████████████████████████████████| 2/2 [00:00<00:00,  2.95it/s]\n",
      "100%|████████████████████████████████████████████████████████████████████████████████████| 2/2 [00:00<00:00,  2.94it/s]\n",
      "100%|████████████████████████████████████████████████████████████████████████████████████| 7/7 [00:03<00:00,  2.25it/s]\n",
      "100%|████████████████████████████████████████████████████████████████████████████████████| 2/2 [00:00<00:00,  3.12it/s]\n",
      "100%|████████████████████████████████████████████████████████████████████████████████████| 2/2 [00:00<00:00,  2.95it/s]\n",
      "100%|████████████████████████████████████████████████████████████████████████████████████| 5/5 [00:01<00:00,  2.70it/s]\n",
      "100%|████████████████████████████████████████████████████████████████████████████████████| 8/8 [00:02<00:00,  2.78it/s]\n",
      "100%|████████████████████████████████████████████████████████████████████████████████████| 2/2 [00:00<00:00,  3.08it/s]\n",
      "100%|████████████████████████████████████████████████████████████████████████████████████| 2/2 [00:00<00:00,  2.92it/s]\n",
      "100%|████████████████████████████████████████████████████████████████████████████████████| 3/3 [00:01<00:00,  2.73it/s]\n",
      "100%|████████████████████████████████████████████████████████████████████████████████████| 2/2 [00:00<00:00,  2.45it/s]\n",
      "100%|████████████████████████████████████████████████████████████████████████████████████| 2/2 [00:00<00:00,  2.91it/s]\n",
      "100%|████████████████████████████████████████████████████████████████████████████████████| 2/2 [00:00<00:00,  2.93it/s]\n",
      "100%|████████████████████████████████████████████████████████████████████████████████████| 2/2 [00:00<00:00,  2.88it/s]\n",
      "100%|████████████████████████████████████████████████████████████████████████████████████| 2/2 [00:00<00:00,  2.74it/s]\n",
      "100%|████████████████████████████████████████████████████████████████████████████████████| 2/2 [00:00<00:00,  2.37it/s]\n",
      "100%|████████████████████████████████████████████████████████████████████████████████████| 2/2 [00:00<00:00,  2.83it/s]\n",
      "100%|████████████████████████████████████████████████████████████████████████████████████| 2/2 [00:00<00:00,  2.71it/s]\n",
      "100%|████████████████████████████████████████████████████████████████████████████████████| 2/2 [00:00<00:00,  2.76it/s]\n"
     ]
    },
    {
     "name": "stdout",
     "output_type": "stream",
     "text": [
      "ZebraDove\n",
      "1095.719181838233\n"
     ]
    }
   ],
   "source": [
    "for root, _, files in os.walk(datasetpath):\n",
    "    if root == datasetpath:\n",
    "        os.chdir(root)\n",
    "        audio_files = os.listdir()\n",
    "        bird_freq = 0\n",
    "        # print(audio_files)\n",
    "        audio_values = []\n",
    "\n",
    "        for file in audio_files:\n",
    "            _, ext = os.path.splitext(audio_files[0])\n",
    "            if ext == '.wav':\n",
    "                audio, _ = lb.load(file)\n",
    "                audio = butter_bandpass_filter(audio, 200, 11000, sr)\n",
    "                audio = nr.reduce_noise(y=audio, sr=sr)\n",
    "                bird_freq = find_frequency(audio)\n",
    "                # audio = butter_bandpass_filter(audio, bird_freq-200, bird_freq+200, sr)\n",
    "                audio_values.append(audio)\n",
    "                # freq, mag = fourier(audio)\n",
    "\n",
    "        ### Use the audio_infos list to get the estimated bird frequency. \n",
    "        bird_freq = bird_freq_correction(audio_values)\n",
    "        print(os.path.split(root)[-1])\n",
    "        print(bird_freq)\n",
    "        species_freqs.append(bird_freq)"
   ]
  },
  {
   "cell_type": "code",
   "execution_count": null,
   "id": "f32fc666-a08f-49eb-88bd-dff10e2664ad",
   "metadata": {},
   "outputs": [],
   "source": []
  },
  {
   "cell_type": "code",
   "execution_count": null,
   "id": "8ac5f37c-cbe4-4c95-a6ac-e17f4f045d2f",
   "metadata": {},
   "outputs": [],
   "source": []
  },
  {
   "cell_type": "code",
   "execution_count": null,
   "id": "82f029d7-6a73-4d05-adc0-35d4bd226dd1",
   "metadata": {},
   "outputs": [],
   "source": []
  },
  {
   "cell_type": "code",
   "execution_count": null,
   "id": "1cd51022-cbc3-4aa8-a149-d59054e6fcae",
   "metadata": {},
   "outputs": [],
   "source": []
  }
 ],
 "metadata": {
  "kernelspec": {
   "display_name": "Python 3 (ipykernel)",
   "language": "python",
   "name": "python3"
  },
  "language_info": {
   "codemirror_mode": {
    "name": "ipython",
    "version": 3
   },
   "file_extension": ".py",
   "mimetype": "text/x-python",
   "name": "python",
   "nbconvert_exporter": "python",
   "pygments_lexer": "ipython3",
   "version": "3.9.12"
  },
  "toc-autonumbering": false,
  "toc-showcode": false,
  "toc-showmarkdowntxt": false
 },
 "nbformat": 4,
 "nbformat_minor": 5
}
